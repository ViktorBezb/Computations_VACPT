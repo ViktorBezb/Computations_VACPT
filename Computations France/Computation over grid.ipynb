{
 "cells": [
  {
   "cell_type": "code",
   "execution_count": 1,
   "id": "5fe93d02",
   "metadata": {},
   "outputs": [],
   "source": [
    "%run ./CoreFunctions.ipynb"
   ]
  },
  {
   "cell_type": "code",
   "execution_count": null,
   "id": "80e90e5e",
   "metadata": {},
   "outputs": [],
   "source": []
  },
  {
   "cell_type": "code",
   "execution_count": 2,
   "id": "b4bbf4d1",
   "metadata": {},
   "outputs": [
    {
     "name": "stdout",
     "output_type": "stream",
     "text": [
      "No sound available because Linux\n"
     ]
    }
   ],
   "source": [
    "playsound(444,444)"
   ]
  },
  {
   "cell_type": "code",
   "execution_count": 3,
   "id": "de6f77a3",
   "metadata": {},
   "outputs": [],
   "source": [
    "# the main parameteres are collected below\n",
    "# Set SaveResults to True if you want to save the results!!!"
   ]
  },
  {
   "cell_type": "code",
   "execution_count": 4,
   "id": "37309335",
   "metadata": {},
   "outputs": [],
   "source": [
    "Grid_size = 151  #171"
   ]
  },
  {
   "cell_type": "code",
   "execution_count": 5,
   "id": "dfcdc577",
   "metadata": {},
   "outputs": [],
   "source": [
    "aLowestValue = -0.3\n",
    "aHighestValue = aLowestValue + 4.2\n",
    "bLowestValue = -1.3\n",
    "bHighestValue = bLowestValue + 4.2"
   ]
  },
  {
   "cell_type": "code",
   "execution_count": 6,
   "id": "621e8fec",
   "metadata": {},
   "outputs": [],
   "source": [
    "aas = np.linspace(start=aLowestValue, stop=aHighestValue, num=Grid_size)   #grid of points for which \n",
    "#                                                        computation of Log(I_p/I_u) takes place\n",
    "                                                  # start is the first, stop is the last, num is the number of points\n",
    "bbs = np.linspace(start=bLowestValue, stop= bHighestValue, num=Grid_size)"
   ]
  },
  {
   "cell_type": "code",
   "execution_count": 7,
   "id": "cd4a0942",
   "metadata": {},
   "outputs": [],
   "source": [
    "# Q_values are specified below because the population has to be loaded first"
   ]
  },
  {
   "cell_type": "code",
   "execution_count": 8,
   "id": "b3d79b78",
   "metadata": {},
   "outputs": [],
   "source": [
    "SaveResults = True"
   ]
  },
  {
   "cell_type": "code",
   "execution_count": null,
   "id": "40a56c3a",
   "metadata": {},
   "outputs": [],
   "source": []
  },
  {
   "cell_type": "code",
   "execution_count": null,
   "id": "3680575c",
   "metadata": {},
   "outputs": [],
   "source": []
  },
  {
   "cell_type": "code",
   "execution_count": 9,
   "id": "af5669d9",
   "metadata": {},
   "outputs": [],
   "source": [
    "#French population\n",
    "Fr_Pop = pd.read_csv(\"summary_per_Aire_Attr_py_v55.csv\")\n",
    "FrPopulation = np.array(Fr_Pop[\"PAA\"])\n",
    "#FrPopulation = np.sort(FrPopulation)\n",
    "\n",
    "N_iterations = 39 \n",
    "N_cities = len(FrPopulation)\n",
    "#N_cities = 4 #number of city sizes"
   ]
  },
  {
   "cell_type": "code",
   "execution_count": null,
   "id": "3ddc92f5",
   "metadata": {},
   "outputs": [],
   "source": []
  },
  {
   "cell_type": "code",
   "execution_count": 10,
   "id": "7a551ff9",
   "metadata": {},
   "outputs": [],
   "source": [
    "#xs = list(FrPopulation)\n",
    "#Duplicates = set([x for x in xs if xs.count(x) > 1])"
   ]
  },
  {
   "cell_type": "code",
   "execution_count": 11,
   "id": "a1821fd2",
   "metadata": {},
   "outputs": [],
   "source": [
    "#Duplicates"
   ]
  },
  {
   "cell_type": "code",
   "execution_count": null,
   "id": "db81d3e6",
   "metadata": {},
   "outputs": [],
   "source": []
  },
  {
   "cell_type": "code",
   "execution_count": 12,
   "id": "4b7ed27c",
   "metadata": {
    "scrolled": true
   },
   "outputs": [],
   "source": [
    "#PopList = list(set(list(FrPopulation)))"
   ]
  },
  {
   "cell_type": "code",
   "execution_count": 13,
   "id": "d6dd6857",
   "metadata": {},
   "outputs": [],
   "source": [
    "#FrPopulation = np.array(PopList)\n",
    "#FrPopulation = np.sort(FrPopulation)"
   ]
  },
  {
   "cell_type": "code",
   "execution_count": null,
   "id": "b1c3e26c",
   "metadata": {},
   "outputs": [],
   "source": []
  },
  {
   "cell_type": "code",
   "execution_count": null,
   "id": "2eff42ca",
   "metadata": {},
   "outputs": [],
   "source": []
  },
  {
   "cell_type": "code",
   "execution_count": null,
   "id": "3e825c0d",
   "metadata": {},
   "outputs": [],
   "source": []
  },
  {
   "cell_type": "code",
   "execution_count": 14,
   "id": "a9b4f499",
   "metadata": {},
   "outputs": [],
   "source": [
    "#plt.hist(np.log(PolPopulation), bins = 20)\n",
    "#plt.title(\"Histogram of Log of Polish city sizes\")\n",
    "#plt.savefig('Hist_of_Polish_City_Sizes.png', bbox_inches='tight')\n",
    "#plt.show()"
   ]
  },
  {
   "cell_type": "code",
   "execution_count": null,
   "id": "5dd7fa8d",
   "metadata": {},
   "outputs": [],
   "source": []
  },
  {
   "cell_type": "code",
   "execution_count": 15,
   "id": "9db76cc3",
   "metadata": {},
   "outputs": [],
   "source": [
    "N_iterations = 39\n",
    "N_cities =  len(FrPopulation)"
   ]
  },
  {
   "cell_type": "code",
   "execution_count": 16,
   "id": "b3e61269",
   "metadata": {},
   "outputs": [],
   "source": [
    "# kI  does not! affect the ratio I_p/I_u!\n",
    "kI = 0.00001"
   ]
  },
  {
   "cell_type": "code",
   "execution_count": 17,
   "id": "9686929b",
   "metadata": {},
   "outputs": [],
   "source": [
    "# initialize cities array. The distribution is given manually\n",
    "if False:    \n",
    "    def initialize_cities_array():\n",
    "        \n",
    "        # zeroth column is city size y, first is beta(y), second is pi_p(y), third  pi_U(y)\n",
    "        zeta      = np.zeros((N_cities, 4))\n",
    "        zeta[0,0] = 1000\n",
    "        zeta[1,0] = 37430\n",
    "        zeta[2,0] = 200627\n",
    "        zeta[3,0] = 3874465\n",
    "        \n",
    "        zeta[0,1] = 0.39\n",
    "        zeta[1,1] = 0.51\n",
    "        zeta[2,1] = 0.08\n",
    "        zeta[3,1] = 0.02\n",
    "        \n",
    "        zeta[:,2] = 0.99 #placeholder\n",
    "        zeta[:,3] = 0.99  #placeholder\n",
    "    \n",
    "    \n",
    "        return zeta"
   ]
  },
  {
   "cell_type": "code",
   "execution_count": 18,
   "id": "84b77ac5",
   "metadata": {},
   "outputs": [],
   "source": [
    "# for Poland all city sizes are unique\n",
    "\n",
    "def initialize_cities_array():\n",
    "    \n",
    "    # zeroth column is city size y, first is beta(y), second is pi_p(y), third  pi_U(y)\n",
    "    zeta      = np.zeros((N_cities, 4))\n",
    "    zeta[:,0] = FrPopulation\n",
    " \n",
    "    \n",
    "    zeta[:,1] = 1/N_cities\n",
    "    \n",
    "    zeta[:,2] = 0.99 #placeholder\n",
    "    zeta[:,3] = 0.99  #placeholder\n",
    "\n",
    "\n",
    "    return zeta"
   ]
  },
  {
   "cell_type": "code",
   "execution_count": 19,
   "id": "7b39796d",
   "metadata": {},
   "outputs": [
    {
     "data": {
      "text/plain": [
       "89964.23203592829"
      ]
     },
     "execution_count": 19,
     "metadata": {},
     "output_type": "execute_result"
    }
   ],
   "source": [
    "maxQ_value()"
   ]
  },
  {
   "cell_type": "code",
   "execution_count": 20,
   "id": "130daced",
   "metadata": {},
   "outputs": [
    {
     "name": "stdout",
     "output_type": "stream",
     "text": [
      "Q_values: \n",
      "[  899.64232  3148.74812  9896.06552 14394.27713 18892.48873 22940.87917\n",
      " 28788.55425 36885.33513 51279.61226 68372.81635 82358.      85637.\n",
      " 87051.      88134.      89370.     ]\n"
     ]
    }
   ],
   "source": [
    "Q_values = np.array([0.01, 0.035, 0.11, 0.16, 0.21, 0.255,  0.32, 0.41, 0.57, 0.76]) * maxQ_value()\n",
    "Q_values_from_Aurelien = np.array([82358, 85637, 87051, 88134, 89370])\n",
    "# 112073 is excluded because this is the maximal possible value. Both pi_u and pi_p will be one.\n",
    "\n",
    "Q_values = np.concatenate([Q_values, Q_values_from_Aurelien])\n",
    "#Q_values = np.array([0.01,0.5,0.99]) * maxQ_value()\n",
    "print(\"Q_values: \")\n",
    "print(Q_values)"
   ]
  },
  {
   "cell_type": "code",
   "execution_count": null,
   "id": "dac63434",
   "metadata": {},
   "outputs": [],
   "source": []
  },
  {
   "cell_type": "code",
   "execution_count": 21,
   "id": "9fb9e7be",
   "metadata": {},
   "outputs": [],
   "source": [
    "# it can be checked here that kI does not affect the ration\n",
    "#kI = 0.0001\n",
    "\n",
    "#ick = Compute_Is(1,1,22542)\n",
    "#print(ick)\n",
    "#print(ick[0]/ick[1])"
   ]
  },
  {
   "cell_type": "code",
   "execution_count": 22,
   "id": "a0653076",
   "metadata": {},
   "outputs": [],
   "source": [
    "if np.max(Q_values) > maxQ_value() - 0.2:\n",
    "    raise ValueError(\"Q_value is too high!\")"
   ]
  },
  {
   "cell_type": "code",
   "execution_count": 23,
   "id": "48be5dd5",
   "metadata": {},
   "outputs": [],
   "source": [
    "Q_max_possible_value = maxQ_value()"
   ]
  },
  {
   "cell_type": "code",
   "execution_count": null,
   "id": "527d2d78",
   "metadata": {},
   "outputs": [],
   "source": []
  },
  {
   "cell_type": "code",
   "execution_count": null,
   "id": "c00990ab",
   "metadata": {},
   "outputs": [],
   "source": []
  },
  {
   "cell_type": "code",
   "execution_count": 24,
   "id": "279375e7",
   "metadata": {},
   "outputs": [],
   "source": [
    "#with open('a_boundary_curve_1st_computation.pkl', 'rb') as file2:\n",
    "#    Boundary_curve_map = pickle.load(file2)"
   ]
  },
  {
   "cell_type": "code",
   "execution_count": null,
   "id": "50589311",
   "metadata": {},
   "outputs": [],
   "source": []
  },
  {
   "cell_type": "code",
   "execution_count": null,
   "id": "f99d2a45",
   "metadata": {},
   "outputs": [],
   "source": []
  },
  {
   "cell_type": "code",
   "execution_count": 25,
   "id": "058f4604",
   "metadata": {},
   "outputs": [],
   "source": [
    "import matplotlib.patches as mpatches"
   ]
  },
  {
   "cell_type": "code",
   "execution_count": null,
   "id": "7b322c30",
   "metadata": {
    "scrolled": false
   },
   "outputs": [
    {
     "data": {
      "image/png": "[encoded data removed]",
      "text/plain": [
       "<Figure size 640x480 with 1 Axes>"
      ]
     },
     "metadata": {},
     "output_type": "display_data"
    },
    {
     "name": "stdout",
     "output_type": "stream",
     "text": [
      "No sound available because Linux\n",
      "ETA for Ip and Iu computation  = 8435.68014462789 seconds\n",
      "Average number of seconds per iteration up to now = 0.37012317445543075 seconds\n"
     ]
    }
   ],
   "source": [
    "startTimeForLoopOverk = time.time()\n",
    "\n",
    "for k in range(np.shape(Q_values)[0]):\n",
    "    \n",
    "    Q_value = Q_values[k]\n",
    "    # get cartesian product of aas and bbs\n",
    "    df = pd.MultiIndex.from_product([aas, bbs], names = [\"a\", \"b\"])\n",
    "    df = pd.DataFrame(index = df).reset_index()\n",
    "    zeros = np.zeros(( df.shape[0],1))\n",
    "    df[\"LogIpOverIu\"] = zeros  \n",
    "    df = df.sample(frac=1).reset_index(drop=True)  #shuffle rows\n",
    "    if k == 0:\n",
    "        plt.scatter(df[\"a\"], df[\"b\"], s=1)\n",
    "        plt.ylabel('b')\n",
    "        plt.xlabel('a')\n",
    "        plt.show()\n",
    "\n",
    "        playsound(340, 1111)\n",
    "    \n",
    "    \n",
    "\n",
    "\n",
    "    startTime = time.time()\n",
    "    \n",
    "    for i in range(df.shape[0]):\n",
    "        ick = Compute_Is(df[\"a\"][i], df[\"b\"][i], Q_value)\n",
    "        df[\"LogIpOverIu\"][i] = math.log(ick[0]) - math.log(ick[1])\n",
    "        \n",
    "        if  i%273 == 8:\n",
    "            print(\"ETA for Ip and Iu computation  = \" +\n",
    "                      str( (df.shape[0] - i - 1) *(time.time() - startTime)/(i+1) ) + \" seconds\")\n",
    "            print(\"Average number of seconds per iteration up to now = \"\n",
    "                  + str((time.time() - startTime)/(i+1)) + \" seconds\")\n",
    "            \n",
    "    print(\"Total time for the loop = \" + str(time.time() - startTime) + \" seconds\")\n",
    "    print(\"Average number of seconds per iteration for the loop = \"\n",
    "          + str((time.time() - startTime)/(i+1)) + \" seconds\")\n",
    "    \n",
    "    playsound(440, 1111)\n",
    "    \n",
    "    Color_var = np.array(df[\"LogIpOverIu\"]) \n",
    "\n",
    "    MinValue = np.min(Color_var)\n",
    "    MaxValue = np.max(Color_var)\n",
    "\n",
    "    scaled_Color_var = np.zeros(np.shape(Color_var))\n",
    "\n",
    "    for i in range(np.shape(Color_var)[0]): \n",
    "        # colors are scaled piece-wisely linear in such a way that scaled_Color_var[i] = 0 if \n",
    "        # Color_var[i] = 0. In this way if df[\"LogIpOverIu\"][i] = 0, the color is gonna be in the middle between red and blue.\n",
    "        z = Color_var[i]\n",
    "\n",
    "        if z < 0:\n",
    "            scaled_Color_var[i] = 0.5 - 0.5*z/MinValue  \n",
    "        else:\n",
    "            scaled_Color_var[i] = 0.5 + 0.5*z/MaxValue \n",
    "\n",
    "\n",
    "    colors = plt.cm.coolwarm(scaled_Color_var)\n",
    "\n",
    "    def inverse_color_transform(s):\n",
    "        if s >= 0.5:\n",
    "            return_value = MaxValue*(2*s-1)\n",
    "        else:\n",
    "            return_value = MinValue*(1-2*s)\n",
    "        return return_value    \n",
    "    \n",
    "    plt.scatter(df[\"a\"], df[\"b\"],  color=colors, s=9.1)\n",
    "    plt.ylabel('b')\n",
    "    plt.xlabel('a')\n",
    "    plt.title('France Log(I_p) - Log(I_u), Q_value = ' + str(int(Q_value//1)))\n",
    "\n",
    "\n",
    "    patches = []\n",
    "\n",
    "    Numbers_from_0_to_1 = np.linspace(start = 0, stop = 1, num = 9)\n",
    "\n",
    "    for i in range(np.shape(Numbers_from_0_to_1)[0]):\n",
    "        patches.append(mpatches.Patch(color=plt.cm.coolwarm(Numbers_from_0_to_1[i]),\n",
    "                                      label= '{0:.3f}'.format(inverse_color_transform(Numbers_from_0_to_1[i])) ) )\n",
    "\n",
    "\n",
    "    plt.legend(handles=patches, bbox_to_anchor=(1.04, 0.5), loc=\"center left\", borderaxespad=0)\n",
    "    if SaveResults == True:\n",
    "        plt.savefig('Computation over grid for France, Q = ' + str(int(Q_value//1)) + '.png', bbox_inches='tight')\n",
    "    plt.show()\n",
    "    \n",
    "    if SaveResults == True:\n",
    "        fileObj = open('df_France_Q_'  + str(int(Q_value//1)) + '.pkl', 'wb')\n",
    "        pickle.dump(df,fileObj)\n",
    "        fileObj.close()\n",
    "        \n",
    "print(\"Total time for the loop over k = \" + str(time.time() - startTimeForLoopOverk) + \" seconds\")\n",
    "playsound(340, 1111)"
   ]
  },
  {
   "cell_type": "code",
   "execution_count": null,
   "id": "75dc34b9",
   "metadata": {},
   "outputs": [],
   "source": []
  },
  {
   "cell_type": "code",
   "execution_count": null,
   "id": "7902f816",
   "metadata": {},
   "outputs": [],
   "source": []
  },
  {
   "cell_type": "code",
   "execution_count": null,
   "id": "f8937b73",
   "metadata": {},
   "outputs": [],
   "source": []
  }
 ],
 "metadata": {
  "kernelspec": {
   "display_name": "Python 3 (ipykernel)",
   "language": "python",
   "name": "python3"
  },
  "language_info": {
   "codemirror_mode": {
    "name": "ipython",
    "version": 3
   },
   "file_extension": ".py",
   "mimetype": "text/x-python",
   "name": "python",
   "nbconvert_exporter": "python",
   "pygments_lexer": "ipython3",
   "version": "3.9.15"
  }
 },
 "nbformat": 4,
 "nbformat_minor": 5
}
