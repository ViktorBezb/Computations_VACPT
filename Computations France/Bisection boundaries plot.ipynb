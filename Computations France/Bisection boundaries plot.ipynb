{
 "cells": [
  {
   "cell_type": "code",
   "execution_count": 1,
   "id": "5fe93d02",
   "metadata": {},
   "outputs": [],
   "source": [
    "%run ./CoreFunctions.ipynb"
   ]
  },
  {
   "cell_type": "code",
   "execution_count": 2,
   "id": "b4bbf4d1",
   "metadata": {},
   "outputs": [
    {
     "name": "stdout",
     "output_type": "stream",
     "text": [
      "No sound available because Linux\n"
     ]
    }
   ],
   "source": [
    "playsound(444,444)"
   ]
  },
  {
   "cell_type": "code",
   "execution_count": 3,
   "id": "af5669d9",
   "metadata": {},
   "outputs": [],
   "source": [
    "\n",
    "    \n",
    "aLowestValue = -2.0\n",
    "aHighestValue = 4.0\n",
    "bLowestValue = -3.0\n",
    "bHighestValue = 3.0"
   ]
  },
  {
   "cell_type": "code",
   "execution_count": 4,
   "id": "4b7ed27c",
   "metadata": {},
   "outputs": [],
   "source": [
    "# Q values come below, after initialize cities array is defined"
   ]
  },
  {
   "cell_type": "code",
   "execution_count": 5,
   "id": "c4d869f6",
   "metadata": {},
   "outputs": [],
   "source": [
    "partition_size = 17  #377"
   ]
  },
  {
   "cell_type": "code",
   "execution_count": 6,
   "id": "0ecd1e49",
   "metadata": {},
   "outputs": [],
   "source": [
    "SaveResults = False"
   ]
  },
  {
   "cell_type": "code",
   "execution_count": null,
   "id": "0d8e0559",
   "metadata": {},
   "outputs": [],
   "source": []
  },
  {
   "cell_type": "code",
   "execution_count": null,
   "id": "b5d3acfd",
   "metadata": {},
   "outputs": [],
   "source": []
  },
  {
   "cell_type": "code",
   "execution_count": null,
   "id": "162cc3d0",
   "metadata": {},
   "outputs": [],
   "source": []
  },
  {
   "cell_type": "code",
   "execution_count": null,
   "id": "22a6e8c3",
   "metadata": {},
   "outputs": [],
   "source": []
  },
  {
   "cell_type": "code",
   "execution_count": 7,
   "id": "203d255a",
   "metadata": {},
   "outputs": [],
   "source": [
    "#French population\n",
    "Fr_Pop = pd.read_csv(\"summary_per_Aire_Attr_py_v55.csv\")\n",
    "FrPopulation = np.array(Fr_Pop[\"PAA\"])\n",
    "FrPopulation = np.sort(FrPopulation)\n",
    "\n",
    "N_iterations = 39 \n",
    "N_cities = len(FrPopulation)\n",
    "#N_cities = 4 #number of city sizes"
   ]
  },
  {
   "cell_type": "code",
   "execution_count": null,
   "id": "9db76cc3",
   "metadata": {},
   "outputs": [],
   "source": []
  },
  {
   "cell_type": "code",
   "execution_count": 8,
   "id": "b3e61269",
   "metadata": {},
   "outputs": [],
   "source": [
    "# kI  does not! affect the ratio I_p/I_u!\n",
    "kI = 0.00001"
   ]
  },
  {
   "cell_type": "code",
   "execution_count": null,
   "id": "29236111",
   "metadata": {},
   "outputs": [],
   "source": []
  },
  {
   "cell_type": "code",
   "execution_count": null,
   "id": "00955a7e",
   "metadata": {},
   "outputs": [],
   "source": []
  },
  {
   "cell_type": "code",
   "execution_count": 9,
   "id": "9686929b",
   "metadata": {},
   "outputs": [],
   "source": [
    "# initialize cities array. The distribution is given manually\n",
    "if False:\n",
    "    def initialize_cities_array():\n",
    "        \n",
    "        # zeroth column is city size y, first is beta(y), second is pi_p(y), third  pi_U(y)\n",
    "        zeta      = np.zeros((N_cities, 4))\n",
    "        zeta[0,0] = 1000\n",
    "        zeta[1,0] = 25369\n",
    "        zeta[2,0] = 110521\n",
    "        zeta[3,0] = 787445\n",
    "        \n",
    "        zeta[0,1] = 0.09\n",
    "        zeta[1,1] = 0.05\n",
    "        zeta[2,1] = 0.85\n",
    "        zeta[3,1] = 0.01\n",
    "        \n",
    "        zeta[:,2] = 0.99 #placeholder\n",
    "        zeta[:,3] = 0.99  #placeholder\n",
    "    \n",
    "    \n",
    "        return zeta"
   ]
  },
  {
   "cell_type": "code",
   "execution_count": null,
   "id": "8e05c5e1",
   "metadata": {},
   "outputs": [],
   "source": []
  },
  {
   "cell_type": "code",
   "execution_count": 10,
   "id": "84b77ac5",
   "metadata": {},
   "outputs": [
    {
     "name": "stdout",
     "output_type": "stream",
     "text": [
      "True\n"
     ]
    }
   ],
   "source": [
    "# for Poland all city sizes are unique\n",
    "\n",
    "print(len(list(FrPopulation)) > len(set(list(FrPopulation))))\n",
    "\n",
    "if True:   \n",
    "    def initialize_cities_array():\n",
    "        \n",
    "        # zeroth column is city size y, first is beta(y), second is pi_p(y), third  pi_U(y)\n",
    "        zeta      = np.zeros((N_cities, 4))\n",
    "        zeta[:,0] = FrPopulation\n",
    "     \n",
    "        \n",
    "        zeta[:,1] = 1/N_cities\n",
    "        \n",
    "        zeta[:,2] = 0.99 #placeholder\n",
    "        zeta[:,3] = 0.99  #placeholder\n",
    "    \n",
    "    \n",
    "        return zeta"
   ]
  },
  {
   "cell_type": "code",
   "execution_count": null,
   "id": "5a0cb2a2",
   "metadata": {},
   "outputs": [],
   "source": []
  },
  {
   "cell_type": "code",
   "execution_count": 11,
   "id": "9ba1a4db",
   "metadata": {},
   "outputs": [],
   "source": [
    "Q_values = np.array([ 0.03, 0.11, 0.16, 0.21, 0.255, 0.32, 0.41, 0.57, 0.76]) * maxQ_value()\n",
    "#Q_values = np.array([0.3,0.88]) * maxQ_value()  82358. 85637. 87051. 88134. 89370\n",
    "Q_values_from_Aurelien = np.array([82358,  87051,  89370])\n",
    "Q_values = np.concatenate([Q_values, Q_values_from_Aurelien])"
   ]
  },
  {
   "cell_type": "code",
   "execution_count": 12,
   "id": "535a8f4c",
   "metadata": {},
   "outputs": [
    {
     "data": {
      "text/plain": [
       "array([ 2698.92696,  9896.06552, 14394.27713, 18892.48873, 22940.87917,\n",
       "       28788.55425, 36885.33513, 51279.61226, 68372.81635, 82358.     ,\n",
       "       87051.     , 89370.     ])"
      ]
     },
     "execution_count": 12,
     "metadata": {},
     "output_type": "execute_result"
    }
   ],
   "source": [
    "Q_values"
   ]
  },
  {
   "cell_type": "code",
   "execution_count": 13,
   "id": "9f7f96ba",
   "metadata": {},
   "outputs": [],
   "source": [
    "Q_max_possible_value = maxQ_value()"
   ]
  },
  {
   "cell_type": "code",
   "execution_count": 14,
   "id": "3387559f",
   "metadata": {
    "scrolled": true
   },
   "outputs": [
    {
     "data": {
      "text/plain": [
       "3.287199874050975"
      ]
     },
     "execution_count": 14,
     "metadata": {},
     "output_type": "execute_result"
    }
   ],
   "source": [
    "ick = Compute_Is(-0.432, 1.2315, 6894)\n",
    "math.log(ick[0]) - math.log(ick[1])"
   ]
  },
  {
   "cell_type": "code",
   "execution_count": 15,
   "id": "9c4109d1",
   "metadata": {},
   "outputs": [
    {
     "data": {
      "text/plain": [
       "89964.23203592816"
      ]
     },
     "execution_count": 15,
     "metadata": {},
     "output_type": "execute_result"
    }
   ],
   "source": [
    "Q_max_possible_value"
   ]
  },
  {
   "cell_type": "code",
   "execution_count": null,
   "id": "06ff0c66",
   "metadata": {},
   "outputs": [],
   "source": []
  },
  {
   "cell_type": "code",
   "execution_count": null,
   "id": "629c8879",
   "metadata": {},
   "outputs": [],
   "source": []
  },
  {
   "cell_type": "code",
   "execution_count": 16,
   "id": "7b39796d",
   "metadata": {},
   "outputs": [],
   "source": [
    "if np.max(Q_values) > maxQ_value() - 0.1:\n",
    "    raise ValueError(\"Q_value is too high!\")"
   ]
  },
  {
   "cell_type": "code",
   "execution_count": null,
   "id": "9956eb6f",
   "metadata": {},
   "outputs": [],
   "source": []
  },
  {
   "cell_type": "code",
   "execution_count": null,
   "id": "345e0683",
   "metadata": {},
   "outputs": [],
   "source": []
  },
  {
   "cell_type": "code",
   "execution_count": null,
   "id": "bef04bfe",
   "metadata": {},
   "outputs": [],
   "source": []
  },
  {
   "cell_type": "code",
   "execution_count": null,
   "id": "7bfd13f7",
   "metadata": {},
   "outputs": [],
   "source": []
  },
  {
   "cell_type": "code",
   "execution_count": null,
   "id": "05de0dd1",
   "metadata": {},
   "outputs": [],
   "source": []
  },
  {
   "cell_type": "code",
   "execution_count": 17,
   "id": "b0d6cb06",
   "metadata": {},
   "outputs": [],
   "source": [
    "#determine boundaries using the bisection algorithm\n",
    "\n",
    "aaaaaaas = np.linspace(start=aLowestValue , stop=aHighestValue   , num=partition_size) \n",
    "bbbbbbbs = np.linspace(start=bLowestValue , stop=bHighestValue, num=partition_size) \n",
    "\n",
    "\n",
    "\n",
    "aas = np.array([aaaaaaas for i in range(np.shape(Q_values)[0])])\n",
    "bbs = np.array([bbbbbbbs for i in range(np.shape(Q_values)[0])])\n",
    "\n",
    "bbs_of_aas = bLowestValue* np.ones(np.shape(aas)) \n",
    "aas_of_bbs = -2* np.ones(np.shape(bbs))\n",
    "\n",
    "\n"
   ]
  },
  {
   "cell_type": "code",
   "execution_count": 18,
   "id": "412ffa73",
   "metadata": {},
   "outputs": [],
   "source": [
    "aANDbLimit = 26"
   ]
  },
  {
   "cell_type": "code",
   "execution_count": 19,
   "id": "ee5912bc",
   "metadata": {},
   "outputs": [],
   "source": [
    "def Find_approx_root_given_a(a, Tolerance, Q_value, Verbose = False):\n",
    "    \n",
    "    # given a, finds an approx value of b such that Q_U =Q_P = Q_value and Q_P =Q_U\n",
    "    \n",
    "    b = np.random.uniform(low = -0.22*aANDbLimit, high = 0.22*aANDbLimit)\n",
    "    Continue_while_loop = True\n",
    "    \n",
    "    Iteration_number = 0\n",
    "    \n",
    "    high = aANDbLimit\n",
    "    low = -aANDbLimit\n",
    "    \n",
    "    while Iteration_number < 60:\n",
    "        \n",
    "        if b > 0.995* aANDbLimit:\n",
    "            b = 1001\n",
    "            break\n",
    "            \n",
    "        if b < -0.995* aANDbLimit:\n",
    "            b = -1001\n",
    "            break\n",
    "            \n",
    "        Iteration_number = Iteration_number + 1\n",
    "        ick = Compute_Is(a, b, Q_value)\n",
    "        LogRatio = math.log(ick[0]) - math.log(ick[1])\n",
    "        if Verbose == True:\n",
    "            print(\"b = \" + str(b)+ \", LogRatio = \" + str(LogRatio))\n",
    "        if abs(LogRatio) < Tolerance: \n",
    "            Continue_while_loop = False\n",
    "            break \n",
    "            \n",
    "        elif LogRatio >= Tolerance:\n",
    "            low = b\n",
    "            b = 0.5*(b + high)\n",
    "        else: \n",
    "            high = b\n",
    "            b = 0.5*(b + low)\n",
    "            \n",
    "\n",
    "            \n",
    "        if  Iteration_number == 42:\n",
    "            print(\"Iteration number searching for b is too high. Check whats going on.  \")\n",
    "            print(\"Possibly a and b Limits need to be increased  \")\n",
    "            print(\"a , Tolerance, Q_value = \" +   str([a, Tolerance, Q_value]))    \n",
    "        \n",
    "    return b\n",
    "        \n",
    "def Find_approx_root_given_b(b, Tolerance, Q_value, Verbose = False):\n",
    "    \n",
    "    # see Find_approx_root_given_a's description\n",
    "    a = np.random.uniform(low= -0.22*aANDbLimit, high= 0.22*aANDbLimit)\n",
    "    Continue_while_loop = True\n",
    "    \n",
    "    Iteration_number = 0\n",
    "    \n",
    "    high = aANDbLimit\n",
    "    low = -aANDbLimit\n",
    "    \n",
    "    while Iteration_number < 60:\n",
    "        \n",
    "        if a > 0.995* aANDbLimit:\n",
    "            a = 1001\n",
    "            break\n",
    "        \n",
    "        if a < -0.995* aANDbLimit:\n",
    "            a = -1001\n",
    "            break\n",
    "            \n",
    "        Iteration_number = Iteration_number + 1\n",
    "        ick = Compute_Is(a, b, Q_value)\n",
    "        LogRatio = math.log(ick[0]) - math.log(ick[1])\n",
    "        if Verbose == True:\n",
    "            print(\"a = \" + str(a)+ \", LogRatio = \" + str(LogRatio))\n",
    "        if abs(LogRatio) < Tolerance: \n",
    "            Continue_while_loop = False\n",
    "            break \n",
    "            \n",
    "\n",
    "            \n",
    "        elif LogRatio >= Tolerance:\n",
    "            low = a\n",
    "            a = 0.5*(a + high)\n",
    "        else: \n",
    "            high = a\n",
    "            a = 0.5*(a + low)\n",
    "        \n",
    "        if  Iteration_number == 42:\n",
    "                print(\"Iteration number searching for a is too high. Check whats going on.  \")\n",
    "                print(\"Possibly a and b Limits need to be increased  \")\n",
    "                print(\"b , Tolerance, Q_value = \" +   str([b, Tolerance, Q_value]))\n",
    "        \n",
    "    return a\n",
    "        "
   ]
  },
  {
   "cell_type": "code",
   "execution_count": null,
   "id": "0189dc17",
   "metadata": {
    "scrolled": false
   },
   "outputs": [],
   "source": []
  },
  {
   "cell_type": "code",
   "execution_count": 20,
   "id": "bcba5dc1",
   "metadata": {
    "scrolled": true
   },
   "outputs": [
    {
     "data": {
      "text/plain": [
       "89964.23203592816"
      ]
     },
     "execution_count": 20,
     "metadata": {},
     "output_type": "execute_result"
    }
   ],
   "source": [
    "maxQ_value()"
   ]
  },
  {
   "cell_type": "code",
   "execution_count": null,
   "id": "e5f6c41b",
   "metadata": {},
   "outputs": [],
   "source": []
  },
  {
   "cell_type": "code",
   "execution_count": null,
   "id": "b7fe6158",
   "metadata": {},
   "outputs": [],
   "source": []
  },
  {
   "cell_type": "code",
   "execution_count": null,
   "id": "4b787d35",
   "metadata": {},
   "outputs": [],
   "source": []
  },
  {
   "cell_type": "code",
   "execution_count": null,
   "id": "95a609a6",
   "metadata": {},
   "outputs": [],
   "source": []
  },
  {
   "cell_type": "code",
   "execution_count": null,
   "id": "cb78f76c",
   "metadata": {},
   "outputs": [],
   "source": []
  },
  {
   "cell_type": "code",
   "execution_count": null,
   "id": "173439bb",
   "metadata": {
    "scrolled": false
   },
   "outputs": [
    {
     "name": "stdout",
     "output_type": "stream",
     "text": [
      "This loop relies on the ratio log (I_p/I_u) to be monotonically decreasing in a and b!\n",
      "k = 0\n",
      " \n",
      "ETA for LogRation computation given a in this subloop = 120.45375871658325 seconds\n",
      "Average number of seconds per iteration in this subloop = 10.950353980064392 seconds\n",
      " \n",
      "Total time for this subloop = 143.9709038734436 seconds\n",
      "Average number of seconds per iteration in this subloop = 8.468881803400377 seconds\n",
      " \n",
      "ETA for LogRation computation given b in this subloop = 108.535493572553 seconds\n",
      "Average number of seconds per iteration in this subloop = 9.866876045862833 seconds\n",
      " \n",
      "Total time for this subloop = 136.84922170639038 seconds\n",
      "Average number of seconds per iteration in this subloop = 8.04995846748352 seconds\n",
      " \n",
      "k = 1\n",
      " \n"
     ]
    }
   ],
   "source": [
    "# extremal value the root search function can take\n",
    "# relies on the ration log (I_p/I_u) to be monotonically decreasing in a and b!\n",
    "\n",
    "print(\"This loop relies on the ratio log (I_p/I_u) to be monotonically decreasing in a and b!\")\n",
    "\n",
    "\n",
    "\n",
    "Tolerance = 0.00065 # a lower tolerance doesnt make much sense without decreasing tolerance of the core functions\n",
    "\n",
    "for k in range(np.shape(Q_values)[0]):\n",
    "    print(\"k = \" + str(k))\n",
    "    Q_value = Q_values[k]\n",
    "    startTime = time.time()\n",
    "    print(\" \")\n",
    "        \n",
    "    \n",
    "    for i in range(np.shape(aas)[1]):\n",
    "        a = aas[k][i]\n",
    "        bbs_of_aas[k][i]  = Find_approx_root_given_a(a, Tolerance, Q_value)\n",
    "        \n",
    "        if  i%73 == 5:\n",
    "            print(\"ETA for LogRation computation given a in this subloop = \" +\n",
    "                      str( (np.shape(aas)[1] - i - 1) *(time.time() - startTime)/(i+1) ) + \" seconds\")\n",
    "            print(\"Average number of seconds per iteration in this subloop = \"\n",
    "                  + str((time.time() - startTime)/(i+1)) + \" seconds\")\n",
    "            print(\" \")\n",
    "            \n",
    "    print(\"Total time for this subloop = \" + str(time.time() - startTime) + \" seconds\")\n",
    "    print(\"Average number of seconds per iteration in this subloop = \"\n",
    "          + str((time.time() - startTime)/(i+1)) + \" seconds\")\n",
    "    print(\" \") \n",
    "    \n",
    "    startTime = time.time()\n",
    "    for i in range(np.shape(bbs)[1]):\n",
    "        \n",
    "        b = bbs[k][i]\n",
    "        aas_of_bbs[k][i] = Find_approx_root_given_b(b, Tolerance, Q_value)\n",
    "        \n",
    "        if  i%73 == 5:\n",
    "            print(\"ETA for LogRation computation given b in this subloop = \" +\n",
    "                      str( (np.shape(aas)[1] - i - 1) *(time.time() - startTime)/(i+1) ) + \" seconds\")\n",
    "            print(\"Average number of seconds per iteration in this subloop = \"\n",
    "                  + str((time.time() - startTime)/(i+1)) + \" seconds\")\n",
    "            print(\" \")\n",
    "            \n",
    "    print(\"Total time for this subloop = \" + str(time.time() - startTime) + \" seconds\")\n",
    "    print(\"Average number of seconds per iteration in this subloop = \"\n",
    "          + str((time.time() - startTime)/(i+1)) + \" seconds\")\n",
    "    print(\" \")\n"
   ]
  },
  {
   "cell_type": "code",
   "execution_count": null,
   "id": "7295e7ab",
   "metadata": {},
   "outputs": [],
   "source": [
    "playsound(364,444)"
   ]
  },
  {
   "cell_type": "code",
   "execution_count": null,
   "id": "cf868140",
   "metadata": {},
   "outputs": [],
   "source": [
    "import matplotlib.patches as mpatches"
   ]
  },
  {
   "cell_type": "code",
   "execution_count": null,
   "id": "03a7fdd4",
   "metadata": {},
   "outputs": [],
   "source": []
  },
  {
   "cell_type": "code",
   "execution_count": null,
   "id": "ccd981ca",
   "metadata": {},
   "outputs": [],
   "source": []
  },
  {
   "cell_type": "code",
   "execution_count": null,
   "id": "c6e2a64b",
   "metadata": {},
   "outputs": [],
   "source": []
  },
  {
   "cell_type": "code",
   "execution_count": null,
   "id": "7fe419cc",
   "metadata": {},
   "outputs": [],
   "source": [
    "\n",
    "\n",
    "palette = sns.color_palette(None, np.shape(Q_values)[0])\n",
    "\n",
    "patches = []\n",
    "\n",
    "for k in range(0,np.shape(Q_values)[0]):\n",
    "\n",
    "    patches.append(mpatches.Patch(color = palette[k], label ='{0:.1f}'.format(Q_values[k])))\n",
    "        \n",
    "    plt.plot(aas[k][(bbs_of_aas[k] < 0.99* aANDbLimit)  & (bbs_of_aas[k] > -0.99*aANDbLimit) ],\n",
    "             bbs_of_aas[k][(bbs_of_aas[k] < 0.99* aANDbLimit)  & (bbs_of_aas[k] > -0.99*aANDbLimit) ], \n",
    "             color=palette[k], linewidth=1.0)\n",
    "    plt.plot( aas_of_bbs[k][(aas_of_bbs[k]< 0.99* aANDbLimit) & (aas_of_bbs[k]> -0.99* aANDbLimit)] , \n",
    "             bbs[k][(aas_of_bbs[k]< 0.99* aANDbLimit) & (aas_of_bbs[k]> -0.99* aANDbLimit)],\n",
    "             color=palette[k], linewidth=1.0)\n",
    "    \n",
    "    \n",
    "plt.ylabel('b')\n",
    "plt.xlabel('a')\n",
    "plt.legend(handles=patches,  title=\"Q values\", bbox_to_anchor=(1.04, 0.5), loc=\"center left\", borderaxespad=0)\n",
    "\n",
    "\n",
    "plt.title(\"Boundaries for different values of Q\")\n",
    "if SaveResults == True:\n",
    "    plt.savefig('Boundaries for various Q' + str(int(time.time()//1)) + '.png', bbox_inches='tight')\n",
    "\n",
    "plt.show()    "
   ]
  },
  {
   "cell_type": "code",
   "execution_count": null,
   "id": "71f4cf8b",
   "metadata": {},
   "outputs": [],
   "source": []
  },
  {
   "cell_type": "code",
   "execution_count": null,
   "id": "0e4a278d",
   "metadata": {},
   "outputs": [],
   "source": []
  },
  {
   "cell_type": "code",
   "execution_count": null,
   "id": "36f3c460",
   "metadata": {},
   "outputs": [],
   "source": [
    "    if SaveResults == True:\n",
    "        fileObj = open('Poland_Boundaries_different_Q_'  + str(int(time.time()//1)) + '.pkl', 'wb')\n",
    "        pickle.dump([aas,bbs_of_aas, bbs, aas_of_bbs],fileObj)\n",
    "        fileObj.close()"
   ]
  },
  {
   "cell_type": "code",
   "execution_count": null,
   "id": "25f3efdc",
   "metadata": {},
   "outputs": [],
   "source": [
    "time.sleep(2)"
   ]
  },
  {
   "cell_type": "code",
   "execution_count": null,
   "id": "f68293d5",
   "metadata": {},
   "outputs": [],
   "source": [
    "XandYlims = 8"
   ]
  },
  {
   "cell_type": "code",
   "execution_count": null,
   "id": "76cc8e5e",
   "metadata": {},
   "outputs": [],
   "source": [
    "\n",
    "\n",
    "palette = sns.color_palette(None, np.shape(Q_values)[0])\n",
    "\n",
    "patches = []\n",
    "\n",
    "for k in range(0,np.shape(Q_values)[0]):\n",
    "    if k == 2:\n",
    "        continue\n",
    "    patches.append(mpatches.Patch(color = palette[k], label ='{0:.1f}'.format(Q_values[k])))\n",
    "        \n",
    "    plt.plot(aas[k][(bbs_of_aas[k] < XandYlims)  & (bbs_of_aas[k] > -XandYlims) ],\n",
    "             bbs_of_aas[k][(bbs_of_aas[k] < XandYlims)  & (bbs_of_aas[k] > -XandYlims) ], \n",
    "             color=palette[k], linewidth=1.0)\n",
    "    plt.plot( aas_of_bbs[k][(aas_of_bbs[k]< XandYlims) & (aas_of_bbs[k]> -XandYlims)] , \n",
    "             bbs[k][(aas_of_bbs[k]< XandYlims) & (aas_of_bbs[k]> -XandYlims)],\n",
    "             color=palette[k], linewidth=1.0)\n",
    "    \n",
    "    \n",
    "plt.ylabel('b')\n",
    "plt.xlabel('a')\n",
    "plt.legend(handles=patches,  title=\"Q values\", bbox_to_anchor=(1.04, 0.5), loc=\"center left\", borderaxespad=0)\n",
    "\n",
    "\n",
    "plt.title(\"Boundaries for different values of Q\")\n",
    "if SaveResults == True:\n",
    "    plt.savefig('Boundaries for various Q' + str(int(time.time()//1)) + '.png', bbox_inches='tight')\n",
    "\n",
    "plt.show()    "
   ]
  },
  {
   "cell_type": "code",
   "execution_count": null,
   "id": "0da6a287",
   "metadata": {},
   "outputs": [],
   "source": []
  },
  {
   "cell_type": "code",
   "execution_count": null,
   "id": "c42782e2",
   "metadata": {},
   "outputs": [],
   "source": []
  },
  {
   "cell_type": "code",
   "execution_count": null,
   "id": "0acc23b9",
   "metadata": {
    "scrolled": false
   },
   "outputs": [],
   "source": [
    "time.sleep(2)\n",
    "XandYlims = 2\n",
    "\n",
    "palette = sns.color_palette(None, np.shape(Q_values)[0])\n",
    "\n",
    "patches = []\n",
    "\n",
    "for k in range(0,np.shape(Q_values)[0]):\n",
    "\n",
    "    patches.append(mpatches.Patch(color = palette[k], label ='{0:.1f}'.format(Q_values[k])))\n",
    "        \n",
    "    plt.plot(aas[k][(bbs_of_aas[k] < XandYlims)  & (bbs_of_aas[k] > -XandYlims) ],\n",
    "             bbs_of_aas[k][(bbs_of_aas[k] < XandYlims)  & (bbs_of_aas[k] > -XandYlims) ], \n",
    "             color=palette[k], linewidth=1.0)\n",
    "    plt.plot( aas_of_bbs[k][(aas_of_bbs[k]< XandYlims) & (aas_of_bbs[k]> -XandYlims)] , \n",
    "             bbs[k][(aas_of_bbs[k]< XandYlims) & (aas_of_bbs[k]> -XandYlims)],\n",
    "             color=palette[k], linewidth=1.0)\n",
    "    \n",
    "    \n",
    "plt.ylabel('b')\n",
    "plt.xlabel('a')\n",
    "plt.legend(handles=patches,  title=\"Q values\", bbox_to_anchor=(1.04, 0.5), loc=\"center left\", borderaxespad=0)\n",
    "\n",
    "\n",
    "plt.title(\"Boundaries for different values of Q\")\n",
    "if SaveResults == True:\n",
    "    plt.savefig('Boundaries for various Q' + str(int(time.time()//1)) + '.png', bbox_inches='tight')\n",
    "\n",
    "plt.show()    "
   ]
  },
  {
   "cell_type": "code",
   "execution_count": null,
   "id": "7cbfd762",
   "metadata": {
    "scrolled": false
   },
   "outputs": [],
   "source": [
    "time.sleep(2)\n",
    "\n",
    "\n",
    "palette = sns.color_palette(None, np.shape(Q_values)[0])\n",
    "\n",
    "patches = []\n",
    "\n",
    "for k in range(0,np.shape(Q_values)[0]):\n",
    "\n",
    "    patches.append(mpatches.Patch(color = palette[k], label ='{0:.1f}'.format(Q_values[k])))\n",
    "        \n",
    "    plt.plot(aas[k], bbs_of_aas[k], \n",
    "             color=palette[k], linewidth=1.0)\n",
    "    plt.plot( aas_of_bbs[k], bbs[k],\n",
    "             color=palette[k], linewidth=1.0)\n",
    "\n",
    "plt.xlim(0.7,1.3)\n",
    "plt.ylim(-0.3,0.3)\n",
    "plt.ylabel('b')\n",
    "plt.xlabel('a')\n",
    "plt.legend(handles=patches,  title=\"Q values\", bbox_to_anchor=(1.04, 0.5), loc=\"center left\", borderaxespad=0)\n",
    "\n",
    "\n",
    "plt.title(\"Boundaries for different values of Q\")\n",
    "if SaveResults == True:\n",
    "    plt.savefig('Boundaries for various Q' + str(int(time.time()//1)) + '.png', bbox_inches='tight')\n",
    "\n",
    "plt.show()    "
   ]
  },
  {
   "cell_type": "code",
   "execution_count": null,
   "id": "b00bb9f3",
   "metadata": {},
   "outputs": [],
   "source": [
    "maxQ_value()"
   ]
  },
  {
   "cell_type": "code",
   "execution_count": null,
   "id": "81c95c78",
   "metadata": {},
   "outputs": [],
   "source": [
    "# recompute for k = 2 with a lower tolerance"
   ]
  },
  {
   "cell_type": "code",
   "execution_count": null,
   "id": "d1ddd013",
   "metadata": {},
   "outputs": [],
   "source": []
  },
  {
   "cell_type": "code",
   "execution_count": null,
   "id": "abdeae05",
   "metadata": {},
   "outputs": [],
   "source": []
  }
 ],
 "metadata": {
  "kernelspec": {
   "display_name": "Python 3 (ipykernel)",
   "language": "python",
   "name": "python3"
  },
  "language_info": {
   "codemirror_mode": {
    "name": "ipython",
    "version": 3
   },
   "file_extension": ".py",
   "mimetype": "text/x-python",
   "name": "python",
   "nbconvert_exporter": "python",
   "pygments_lexer": "ipython3",
   "version": "3.9.15"
  }
 },
 "nbformat": 4,
 "nbformat_minor": 5
}
