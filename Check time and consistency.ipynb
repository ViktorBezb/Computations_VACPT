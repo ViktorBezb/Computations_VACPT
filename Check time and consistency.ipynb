{
 "cells": [
  {
   "cell_type": "code",
   "execution_count": 1,
   "id": "5fe93d02",
   "metadata": {},
   "outputs": [],
   "source": [
    "# Here we just compare speed for vectorized and for loop\n",
    "# and check that the vectorized version gives the same results (so that hopefully there are no bugs)\n",
    "\n",
    "%run ./CoreFunctions.ipynb"
   ]
  },
  {
   "cell_type": "code",
   "execution_count": null,
   "id": "b71c80d7",
   "metadata": {},
   "outputs": [],
   "source": []
  },
  {
   "cell_type": "code",
   "execution_count": 2,
   "id": "af5669d9",
   "metadata": {},
   "outputs": [],
   "source": [
    "Pol_Pop = pd.read_csv(\"beta_30_Pl_AA.csv\")\n",
    "PolPopulation = np.array(Pol_Pop[\"SourcePopulation\"])\n",
    "PolPopulation = np.sort(PolPopulation)"
   ]
  },
  {
   "cell_type": "code",
   "execution_count": null,
   "id": "4b7ed27c",
   "metadata": {},
   "outputs": [],
   "source": []
  },
  {
   "cell_type": "code",
   "execution_count": 3,
   "id": "a9b4f499",
   "metadata": {},
   "outputs": [],
   "source": [
    "#plt.hist(np.log(PolPopulation), bins = 20)\n",
    "#plt.title(\"Histogram of Log of Polish city sizes\")\n",
    "#plt.savefig('Hist_of_Polish_City_Sizes.png', bbox_inches='tight')\n",
    "#plt.show()"
   ]
  },
  {
   "cell_type": "code",
   "execution_count": null,
   "id": "5dd7fa8d",
   "metadata": {},
   "outputs": [],
   "source": []
  },
  {
   "cell_type": "code",
   "execution_count": 4,
   "id": "9db76cc3",
   "metadata": {},
   "outputs": [],
   "source": [
    "N_iterations = 39\n",
    "N_cities =  len(PolPopulation)"
   ]
  },
  {
   "cell_type": "code",
   "execution_count": 5,
   "id": "b3e61269",
   "metadata": {},
   "outputs": [],
   "source": [
    "# kI  does not! affect the ratio I_p/I_u!\n",
    "kI = 0.00001"
   ]
  },
  {
   "cell_type": "code",
   "execution_count": 6,
   "id": "84b77ac5",
   "metadata": {},
   "outputs": [],
   "source": [
    "# for Poland all city sizes are unique\n",
    "\n",
    "def initialize_cities_array():\n",
    "    \n",
    "    # zeroth column is city size y, first is beta(y), second is pi_p(y), third  pi_U(y)\n",
    "    zeta      = np.zeros((N_cities, 4))\n",
    "    zeta[:,0] = PolPopulation\n",
    " \n",
    "    \n",
    "    zeta[:,1] = 1/N_cities\n",
    "    \n",
    "    zeta[:,2] = 0.99 #placeholder\n",
    "    zeta[:,3] = 0.99  #placeholder\n",
    "\n",
    "\n",
    "    return zeta"
   ]
  },
  {
   "cell_type": "code",
   "execution_count": null,
   "id": "17a21c33",
   "metadata": {},
   "outputs": [],
   "source": []
  },
  {
   "cell_type": "code",
   "execution_count": 7,
   "id": "430f853b",
   "metadata": {},
   "outputs": [],
   "source": [
    "cuValues = np.linspace(-11,11, num = 31)"
   ]
  },
  {
   "cell_type": "code",
   "execution_count": 8,
   "id": "5ec5cf42",
   "metadata": {},
   "outputs": [],
   "source": [
    "cuValues = np.exp(cuValues)"
   ]
  },
  {
   "cell_type": "code",
   "execution_count": 9,
   "id": "94aab519",
   "metadata": {
    "scrolled": true
   },
   "outputs": [],
   "source": [
    "cuValues = 2.4309096699905724e-08 * cuValues"
   ]
  },
  {
   "cell_type": "code",
   "execution_count": 10,
   "id": "ea1cf46d",
   "metadata": {},
   "outputs": [
    {
     "data": {
      "text/plain": [
       "array([0.     , 0.     , 0.     , 0.     , 0.     , 0.     , 0.     ,\n",
       "       0.     , 0.     , 0.     , 0.     , 0.     , 0.     , 0.     ,\n",
       "       0.     , 0.     , 0.     , 0.     , 0.     , 0.     , 0.     ,\n",
       "       0.     , 0.     , 0.00001, 0.00002, 0.00004, 0.00008, 0.00016,\n",
       "       0.00034, 0.0007 , 0.00146])"
      ]
     },
     "execution_count": 10,
     "metadata": {},
     "output_type": "execute_result"
    }
   ],
   "source": [
    "cuValues"
   ]
  },
  {
   "cell_type": "code",
   "execution_count": 11,
   "id": "db2a06ad",
   "metadata": {},
   "outputs": [
    {
     "name": "stdout",
     "output_type": "stream",
     "text": [
      "CPU times: total: 62.5 ms\n",
      "Wall time: 62 ms\n"
     ]
    }
   ],
   "source": [
    "%%time\n",
    "\n",
    "for i in range(np.shape(cuValues)[0]):\n",
    "    Compute_piU(2,1,cuValues[i])"
   ]
  },
  {
   "cell_type": "code",
   "execution_count": 12,
   "id": "e14d5a88",
   "metadata": {},
   "outputs": [
    {
     "name": "stdout",
     "output_type": "stream",
     "text": [
      "CPU times: total: 891 ms\n",
      "Wall time: 889 ms\n"
     ]
    }
   ],
   "source": [
    "%%time\n",
    "\n",
    "for i in range(np.shape(cuValues)[0]):\n",
    "    Compute_piU_old(2,1,cuValues[i])"
   ]
  },
  {
   "cell_type": "code",
   "execution_count": 13,
   "id": "ccb27db7",
   "metadata": {
    "scrolled": false
   },
   "outputs": [
    {
     "name": "stdout",
     "output_type": "stream",
     "text": [
      "Difference between old and new = 0.0\n",
      "2.2485791006943145e-10\n",
      "Difference between old and new = 1.1102230246251565e-16\n",
      "0.7669483527327413\n",
      "Difference between old and new = 2.220446049250313e-16\n",
      "4.560243403804854\n",
      "Difference between old and new = 1.9984014443252818e-15\n",
      "9.889985419845571\n",
      "Difference between old and new = 4.551914400963142e-15\n",
      "21.491594680600667\n",
      "Difference between old and new = 2.1094237467877974e-15\n",
      "46.48292434565151\n",
      "Difference between old and new = 2.2093438190040615e-14\n",
      "99.97146549299127\n",
      "Difference between old and new = 1.4432899320127035e-14\n",
      "181.21844110844654\n",
      "Difference between old and new = 2.2315482794965646e-14\n",
      "259.2164300654814\n",
      "Difference between old and new = 1.354472090042691e-14\n",
      "310.4657169663044\n",
      "Difference between old and new = 2.220446049250313e-15\n",
      "333.67656659478394\n",
      "Difference between old and new = 2.220446049250313e-16\n",
      "340.0092251116989\n",
      "Difference between old and new = 3.3306690738754696e-16\n",
      "340.9097856119415\n",
      "Difference between old and new = 0.0\n",
      "340.9973290549134\n",
      "Difference between old and new = 0.0\n",
      "340.99999761414574\n",
      "Difference between old and new = 0.0\n",
      "340.99999999999864\n",
      "Difference between old and new = 0.0\n",
      "341.0\n",
      "Difference between old and new = 0.0\n",
      "341.0\n",
      "Difference between old and new = 0.0\n",
      "341.0\n",
      "Difference between old and new = 0.0\n",
      "341.0\n",
      "Difference between old and new = 0.0\n",
      "341.0\n",
      "Difference between old and new = 0.0\n",
      "341.0\n",
      "Difference between old and new = 0.0\n",
      "341.0\n",
      "Difference between old and new = 0.0\n",
      "341.0\n",
      "Difference between old and new = 0.0\n",
      "341.0\n",
      "Difference between old and new = 0.0\n",
      "341.0\n",
      "Difference between old and new = 0.0\n",
      "341.0\n",
      "Difference between old and new = 0.0\n",
      "341.0\n",
      "Difference between old and new = 0.0\n",
      "341.0\n",
      "Difference between old and new = 0.0\n",
      "341.0\n",
      "Difference between old and new = 0.0\n",
      "341.0\n"
     ]
    }
   ],
   "source": [
    "for i in range(np.shape(cuValues)[0]):\n",
    "    new = Compute_piU(2,1,cuValues[i])\n",
    "    old = Compute_piU_old(2,1,cuValues[i])\n",
    "    print(\"Difference between old and new = \" + str(np.sum(np.abs(new[:,3] -  old[:,3]) )))\n",
    "    print(np.sum(old[:,3]))"
   ]
  },
  {
   "cell_type": "code",
   "execution_count": null,
   "id": "9c59ec35",
   "metadata": {},
   "outputs": [],
   "source": []
  },
  {
   "cell_type": "code",
   "execution_count": 14,
   "id": "f5be129e",
   "metadata": {},
   "outputs": [
    {
     "name": "stdout",
     "output_type": "stream",
     "text": [
      "Difference between old and new = 4.591774807899561e-41\n",
      "2.6772153790823214e-25\n",
      "Difference between old and new = 0.0\n",
      "1.9011828165297533e-15\n",
      "Difference between old and new = 3.1554436208840472e-30\n",
      "2.353576967083901e-14\n",
      "Difference between old and new = 1.262177448353619e-29\n",
      "1.0627195079325075e-13\n",
      "Difference between old and new = 1.0097419586828951e-28\n",
      "4.808108539348389e-13\n",
      "Difference between old and new = 0.0\n",
      "2.165118566820167e-12\n",
      "Difference between old and new = 4.8467614016778965e-27\n",
      "9.694980060205606e-12\n",
      "Difference between old and new = 1.9387045606711586e-26\n",
      "3.6589449201645364e-11\n",
      "Difference between old and new = 2.5849394142282115e-26\n",
      "1.0896791144972161e-10\n",
      "Difference between old and new = 2.0679515313825692e-25\n",
      "2.7172673612874873e-10\n",
      "Difference between old and new = 2.0679515313825692e-25\n",
      "6.08032859319155e-10\n",
      "Difference between old and new = 2.0679515313825692e-25\n",
      "1.2899553035883663e-09\n",
      "Difference between old and new = 4.1359030627651384e-25\n",
      "2.69281209691032e-09\n",
      "Difference between old and new = 0.0\n",
      "5.607898950203017e-09\n",
      "Difference between old and new = 0.0\n",
      "1.167578792797796e-08\n",
      "Difference between old and new = 3.308722450212111e-24\n",
      "2.4309096699905604e-08\n",
      "Difference between old and new = 6.617444900424222e-24\n",
      "5.0611760154945235e-08\n",
      "Difference between old and new = 1.3234889800848443e-23\n",
      "1.0537414440379593e-07\n",
      "Difference between old and new = 0.0\n",
      "2.193899258756983e-07\n",
      "Difference between old and new = 5.293955920339377e-23\n",
      "4.567718186285024e-07\n",
      "Difference between old and new = 1.0587911840678754e-22\n",
      "9.510030757355797e-07\n",
      "Difference between old and new = 4.235164736271502e-22\n",
      "1.9799970426680263e-06\n",
      "Difference between old and new = 8.470329472543003e-22\n",
      "4.122371829283313e-06\n",
      "Difference between old and new = 1.6940658945086007e-21\n",
      "8.582815596516984e-06\n",
      "Difference between old and new = 0.0\n",
      "1.7869500038918564e-05\n",
      "Difference between old and new = 0.0\n",
      "3.7204461408968804e-05\n",
      "Difference between old and new = 0.0\n",
      "7.746002662171946e-05\n",
      "Difference between old and new = 2.710505431213761e-20\n",
      "0.00016127247907937847\n",
      "Difference between old and new = 5.421010862427522e-20\n",
      "0.000335770766455119\n",
      "Difference between old and new = 1.0842021724855044e-19\n",
      "0.000699077785927544\n",
      "Difference between old and new = 2.168404344971009e-19\n",
      "0.0014554863007786019\n"
     ]
    }
   ],
   "source": [
    "for i in range(np.shape(cuValues)[0]):\n",
    "    new = Iu_function(2,1,cuValues[i])\n",
    "    old = Iu_function_old(2,1,cuValues[i])\n",
    "    print(\"Difference between old and new = \" + str(np.abs(new -  old) ))\n",
    "    print(old)"
   ]
  },
  {
   "cell_type": "code",
   "execution_count": null,
   "id": "c7906444",
   "metadata": {},
   "outputs": [],
   "source": []
  },
  {
   "cell_type": "code",
   "execution_count": 15,
   "id": "ff49a04a",
   "metadata": {},
   "outputs": [],
   "source": [
    "cpValues = np.linspace(-14,14, num = 33)"
   ]
  },
  {
   "cell_type": "code",
   "execution_count": 16,
   "id": "0579354a",
   "metadata": {},
   "outputs": [],
   "source": [
    "cpValues = np.exp(cpValues)"
   ]
  },
  {
   "cell_type": "code",
   "execution_count": 17,
   "id": "d3b6278d",
   "metadata": {
    "scrolled": true
   },
   "outputs": [],
   "source": [
    "cpValues = 2.4309096699905724e-12 * cpValues"
   ]
  },
  {
   "cell_type": "code",
   "execution_count": 18,
   "id": "2237ce53",
   "metadata": {},
   "outputs": [
    {
     "data": {
      "text/plain": [
       "array([0., 0., 0., 0., 0., 0., 0., 0., 0., 0., 0., 0., 0., 0., 0., 0., 0.,\n",
       "       0., 0., 0., 0., 0., 0., 0., 0., 0., 0., 0., 0., 0., 0., 0., 0.])"
      ]
     },
     "execution_count": 18,
     "metadata": {},
     "output_type": "execute_result"
    }
   ],
   "source": [
    "cpValues"
   ]
  },
  {
   "cell_type": "code",
   "execution_count": 19,
   "id": "a788f7a3",
   "metadata": {},
   "outputs": [
    {
     "name": "stdout",
     "output_type": "stream",
     "text": [
      "CPU times: total: 78.1 ms\n",
      "Wall time: 64 ms\n"
     ]
    }
   ],
   "source": [
    "%%time\n",
    "\n",
    "for i in range(np.shape(cpValues)[0]):\n",
    "    Ip_function(2,1,cpValues[i])"
   ]
  },
  {
   "cell_type": "code",
   "execution_count": 20,
   "id": "8a5bcd87",
   "metadata": {},
   "outputs": [
    {
     "name": "stdout",
     "output_type": "stream",
     "text": [
      "CPU times: total: 62.5 ms\n",
      "Wall time: 72.4 ms\n"
     ]
    }
   ],
   "source": [
    "%%time\n",
    "\n",
    "for i in range(np.shape(cpValues)[0]):\n",
    "    Ip_function_old(2,1,cpValues[i])"
   ]
  },
  {
   "cell_type": "code",
   "execution_count": 21,
   "id": "d97f60c5",
   "metadata": {
    "scrolled": false
   },
   "outputs": [
    {
     "name": "stdout",
     "output_type": "stream",
     "text": [
      "Difference between old and new = 0.0\n",
      "3.823106886661993e-14\n",
      "Difference between old and new = 0.0\n",
      "1.2548779689151574e-13\n",
      "Difference between old and new = 0.0\n",
      "4.0766710500568687e-13\n",
      "Difference between old and new = 4.0389678347315804e-28\n",
      "1.3384956147424112e-12\n",
      "Difference between old and new = 8.077935669463161e-28\n",
      "4.428188001026311e-12\n",
      "Difference between old and new = 3.2311742677852644e-27\n",
      "1.3816138420459578e-11\n",
      "Difference between old and new = 6.462348535570529e-27\n",
      "3.9102101744435174e-11\n",
      "Difference between old and new = 1.2924697071141057e-26\n",
      "1.0112219210392311e-10\n",
      "Difference between old and new = 5.169878828456423e-26\n",
      "2.4775173680021873e-10\n",
      "Difference between old and new = 3.101927297073854e-25\n",
      "5.958831402137035e-10\n",
      "Difference between old and new = 6.203854594147708e-25\n",
      "1.4296381131805036e-09\n",
      "Difference between old and new = 1.6543612251060553e-24\n",
      "3.4295332429331583e-09\n",
      "Difference between old and new = 3.308722450212111e-24\n",
      "8.22702257208739e-09\n",
      "Difference between old and new = 6.617444900424222e-24\n",
      "1.9735601191090084e-08\n",
      "Difference between old and new = 1.9852334701272664e-23\n",
      "4.734324610889364e-08\n",
      "Difference between old and new = 5.293955920339377e-23\n",
      "1.1357054342682888e-07\n",
      "Difference between old and new = 1.0587911840678754e-22\n",
      "2.724415707490372e-07\n",
      "Difference between old and new = 2.117582368135751e-22\n",
      "6.535533531194547e-07\n",
      "Difference between old and new = 6.352747104407253e-22\n",
      "1.5677929920876142e-06\n",
      "Difference between old and new = 1.2705494208814505e-21\n",
      "3.7609398747737314e-06\n",
      "Difference between old and new = 5.082197683525802e-21\n",
      "9.022025747690414e-06\n",
      "Difference between old and new = 1.0164395367051604e-20\n",
      "2.164271466766957e-05\n",
      "Difference between old and new = 2.0328790734103208e-20\n",
      "5.1918173510651864e-05\n",
      "Difference between old and new = 5.421010862427522e-20\n",
      "0.0001245452237425998\n",
      "Difference between old and new = 1.0842021724855044e-19\n",
      "0.00029876846021772703\n",
      "Difference between old and new = 3.2526065174565133e-19\n",
      "0.0007167082778328971\n",
      "Difference between old and new = 6.505213034913027e-19\n",
      "0.0017192937806750437\n",
      "Difference between old and new = 1.734723475976807e-18\n",
      "0.004124371373532648\n",
      "Difference between old and new = 3.469446951953614e-18\n",
      "0.009893852591112615\n",
      "Difference between old and new = 6.938893903907228e-18\n",
      "0.02373411854297241\n",
      "Difference between old and new = 2.0816681711721685e-17\n",
      "0.056935190596822886\n",
      "Difference between old and new = 5.551115123125783e-17\n",
      "0.13658042208002624\n",
      "Difference between old and new = 1.1102230246251565e-16\n",
      "0.3276394001673733\n"
     ]
    }
   ],
   "source": [
    "for i in range(np.shape(cpValues)[0]):\n",
    "    new = Ip_function(2,1,cpValues[i])\n",
    "    old = Ip_function_old(2,1,cpValues[i])\n",
    "    print(\"Difference between old and new = \" + str(np.abs(new-  old )))\n",
    "    print(old)"
   ]
  },
  {
   "cell_type": "code",
   "execution_count": null,
   "id": "acb4a3c2",
   "metadata": {},
   "outputs": [],
   "source": []
  },
  {
   "cell_type": "code",
   "execution_count": null,
   "id": "669c9665",
   "metadata": {},
   "outputs": [],
   "source": []
  },
  {
   "cell_type": "code",
   "execution_count": null,
   "id": "c0c90949",
   "metadata": {},
   "outputs": [],
   "source": []
  },
  {
   "cell_type": "code",
   "execution_count": null,
   "id": "3881b3b5",
   "metadata": {},
   "outputs": [],
   "source": []
  }
 ],
 "metadata": {
  "kernelspec": {
   "display_name": "Python 3 (ipykernel)",
   "language": "python",
   "name": "python3"
  },
  "language_info": {
   "codemirror_mode": {
    "name": "ipython",
    "version": 3
   },
   "file_extension": ".py",
   "mimetype": "text/x-python",
   "name": "python",
   "nbconvert_exporter": "python",
   "pygments_lexer": "ipython3",
   "version": "3.8.16"
  }
 },
 "nbformat": 4,
 "nbformat_minor": 5
}
