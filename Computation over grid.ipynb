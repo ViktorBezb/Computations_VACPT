{
 "cells": [
  {
   "cell_type": "code",
   "execution_count": 1,
   "id": "5fe93d02",
   "metadata": {},
   "outputs": [],
   "source": [
    "%run ./CoreFunctions.ipynb"
   ]
  },
  {
   "cell_type": "code",
   "execution_count": null,
   "id": "e613aedc",
   "metadata": {},
   "outputs": [],
   "source": []
  },
  {
   "cell_type": "code",
   "execution_count": 2,
   "id": "b4bbf4d1",
   "metadata": {},
   "outputs": [],
   "source": [
    "playsound(444,444)"
   ]
  },
  {
   "cell_type": "code",
   "execution_count": 3,
   "id": "de6f77a3",
   "metadata": {},
   "outputs": [],
   "source": [
    "# the main parameteres are collected below"
   ]
  },
  {
   "cell_type": "code",
   "execution_count": 4,
   "id": "37309335",
   "metadata": {},
   "outputs": [],
   "source": [
    "Grid_size = 11"
   ]
  },
  {
   "cell_type": "code",
   "execution_count": 5,
   "id": "621e8fec",
   "metadata": {},
   "outputs": [],
   "source": [
    "aas = np.linspace(start=-1.5, stop=2.2, num=Grid_size)   #grid of points for which computation of Log(I_p/I_u) takes place\n",
    "                                                  # start is the first, stop is the last, num is the number of points\n",
    "bbs = np.linspace(start=-2.5, stop= 1.2, num=Grid_size)"
   ]
  },
  {
   "cell_type": "code",
   "execution_count": 6,
   "id": "cd4a0942",
   "metadata": {},
   "outputs": [],
   "source": [
    "Q_value = 36382"
   ]
  },
  {
   "cell_type": "code",
   "execution_count": 7,
   "id": "b3d79b78",
   "metadata": {},
   "outputs": [],
   "source": [
    "SaveResults = False"
   ]
  },
  {
   "cell_type": "code",
   "execution_count": null,
   "id": "40a56c3a",
   "metadata": {},
   "outputs": [],
   "source": []
  },
  {
   "cell_type": "code",
   "execution_count": null,
   "id": "3680575c",
   "metadata": {},
   "outputs": [],
   "source": []
  },
  {
   "cell_type": "code",
   "execution_count": 8,
   "id": "af5669d9",
   "metadata": {},
   "outputs": [],
   "source": [
    "Pol_Pop = pd.read_csv(\"beta_30_Pl_AA.csv\")\n",
    "PolPopulation = np.array(Pol_Pop[\"SourcePopulation\"])\n",
    "PolPopulation = np.sort(PolPopulation)"
   ]
  },
  {
   "cell_type": "code",
   "execution_count": null,
   "id": "4b7ed27c",
   "metadata": {},
   "outputs": [],
   "source": []
  },
  {
   "cell_type": "code",
   "execution_count": 9,
   "id": "a9b4f499",
   "metadata": {},
   "outputs": [],
   "source": [
    "#plt.hist(np.log(PolPopulation), bins = 20)\n",
    "#plt.title(\"Histogram of Log of Polish city sizes\")\n",
    "#plt.savefig('Hist_of_Polish_City_Sizes.png', bbox_inches='tight')\n",
    "#plt.show()"
   ]
  },
  {
   "cell_type": "code",
   "execution_count": null,
   "id": "5dd7fa8d",
   "metadata": {},
   "outputs": [],
   "source": []
  },
  {
   "cell_type": "code",
   "execution_count": 10,
   "id": "9db76cc3",
   "metadata": {},
   "outputs": [],
   "source": [
    "N_iterations = 39\n",
    "N_cities =  len(PolPopulation)"
   ]
  },
  {
   "cell_type": "code",
   "execution_count": 11,
   "id": "b3e61269",
   "metadata": {},
   "outputs": [],
   "source": [
    "# kI  does not! affect the ratio I_p/I_u!\n",
    "kI = 0.00001"
   ]
  },
  {
   "cell_type": "code",
   "execution_count": 12,
   "id": "9686929b",
   "metadata": {},
   "outputs": [],
   "source": [
    "# initialize cities array. The distribution is given manually\n",
    "if False:    \n",
    "    def initialize_cities_array():\n",
    "        \n",
    "        # zeroth column is city size y, first is beta(y), second is pi_p(y), third  pi_U(y)\n",
    "        zeta      = np.zeros((N_cities, 4))\n",
    "        zeta[0,0] = 1000\n",
    "        zeta[1,0] = 37430\n",
    "        zeta[2,0] = 200627\n",
    "        zeta[3,0] = 3874465\n",
    "        \n",
    "        zeta[0,1] = 0.39\n",
    "        zeta[1,1] = 0.51\n",
    "        zeta[2,1] = 0.08\n",
    "        zeta[3,1] = 0.02\n",
    "        \n",
    "        zeta[:,2] = 0.99 #placeholder\n",
    "        zeta[:,3] = 0.99  #placeholder\n",
    "    \n",
    "    \n",
    "        return zeta"
   ]
  },
  {
   "cell_type": "code",
   "execution_count": 13,
   "id": "84b77ac5",
   "metadata": {},
   "outputs": [],
   "source": [
    "# for Poland all city sizes are unique\n",
    "\n",
    "def initialize_cities_array():\n",
    "    \n",
    "    # zeroth column is city size y, first is beta(y), second is pi_p(y), third  pi_U(y)\n",
    "    zeta      = np.zeros((N_cities, 4))\n",
    "    zeta[:,0] = PolPopulation\n",
    " \n",
    "    \n",
    "    zeta[:,1] = 1/N_cities\n",
    "    \n",
    "    zeta[:,2] = 0.99 #placeholder\n",
    "    zeta[:,3] = 0.99  #placeholder\n",
    "\n",
    "\n",
    "    return zeta"
   ]
  },
  {
   "cell_type": "code",
   "execution_count": 14,
   "id": "7b39796d",
   "metadata": {},
   "outputs": [
    {
     "data": {
      "text/plain": [
       "112073.91788856301"
      ]
     },
     "execution_count": 14,
     "metadata": {},
     "output_type": "execute_result"
    }
   ],
   "source": [
    "maxQ_value()"
   ]
  },
  {
   "cell_type": "code",
   "execution_count": 15,
   "id": "9fb9e7be",
   "metadata": {},
   "outputs": [],
   "source": [
    "# it can be checked here that kI does not affect the ration\n",
    "#kI = 0.0001\n",
    "\n",
    "#ick = Compute_Is(1,1,22542)\n",
    "#print(ick)\n",
    "#print(ick[0]/ick[1])"
   ]
  },
  {
   "cell_type": "code",
   "execution_count": 16,
   "id": "a0653076",
   "metadata": {},
   "outputs": [],
   "source": [
    "if Q_value > maxQ_value() - 0.1:\n",
    "    raise ValueError(\"Q_value is too high!\")"
   ]
  },
  {
   "cell_type": "code",
   "execution_count": null,
   "id": "48be5dd5",
   "metadata": {},
   "outputs": [],
   "source": []
  },
  {
   "cell_type": "code",
   "execution_count": null,
   "id": "527d2d78",
   "metadata": {},
   "outputs": [],
   "source": []
  },
  {
   "cell_type": "code",
   "execution_count": null,
   "id": "c00990ab",
   "metadata": {},
   "outputs": [],
   "source": []
  },
  {
   "cell_type": "code",
   "execution_count": 17,
   "id": "279375e7",
   "metadata": {},
   "outputs": [],
   "source": [
    "#with open('a_boundary_curve_1st_computation.pkl', 'rb') as file2:\n",
    "#    Boundary_curve_map = pickle.load(file2)"
   ]
  },
  {
   "cell_type": "code",
   "execution_count": null,
   "id": "50589311",
   "metadata": {},
   "outputs": [],
   "source": []
  },
  {
   "cell_type": "code",
   "execution_count": null,
   "id": "f99d2a45",
   "metadata": {},
   "outputs": [],
   "source": []
  },
  {
   "cell_type": "code",
   "execution_count": null,
   "id": "058f4604",
   "metadata": {},
   "outputs": [],
   "source": []
  },
  {
   "cell_type": "code",
   "execution_count": 18,
   "id": "e170e025",
   "metadata": {},
   "outputs": [],
   "source": [
    "\n",
    "\n",
    "    \n",
    "# get cartesian product of aas and bbs\n",
    "df = pd.MultiIndex.from_product([aas, bbs], names = [\"a\", \"b\"])\n",
    "df = pd.DataFrame(index = df).reset_index()\n",
    "zeros = np.zeros(( df.shape[0],1))\n",
    "df[\"LogIpOverIu\"] = zeros  \n",
    "df = df.sample(frac=1).reset_index(drop=True)  #shuffle rows"
   ]
  },
  {
   "cell_type": "code",
   "execution_count": null,
   "id": "d8a4dd00",
   "metadata": {},
   "outputs": [],
   "source": []
  },
  {
   "cell_type": "code",
   "execution_count": 19,
   "id": "4450709a",
   "metadata": {
    "scrolled": false
   },
   "outputs": [
    {
     "data": {
      "image/png": "[encoded data removed]",
      "text/plain": [
       "<Figure size 640x480 with 1 Axes>"
      ]
     },
     "metadata": {},
     "output_type": "display_data"
    }
   ],
   "source": [
    "    plt.scatter(df[\"a\"], df[\"b\"], s=1)\n",
    "    plt.ylabel('b')\n",
    "    plt.xlabel('a')\n",
    "    plt.show()"
   ]
  },
  {
   "cell_type": "code",
   "execution_count": null,
   "id": "e8e761ad",
   "metadata": {},
   "outputs": [],
   "source": []
  },
  {
   "cell_type": "code",
   "execution_count": 20,
   "id": "ba9a4305",
   "metadata": {},
   "outputs": [],
   "source": [
    "playsound(340, 1111)"
   ]
  },
  {
   "cell_type": "code",
   "execution_count": 21,
   "id": "49d68701",
   "metadata": {},
   "outputs": [
    {
     "name": "stdout",
     "output_type": "stream",
     "text": [
      "ETA for Ip and Iu computation  = 111.97286546230316 seconds\n",
      "Average number of seconds per iteration up to now = 0.9570330381393433 seconds\n",
      "ETA for Ip and Iu computation  = 102.2794582077435 seconds\n",
      "Average number of seconds per iteration up to now = 1.0997791205133711 seconds\n",
      "ETA for Ip and Iu computation  = 78.82775435080895 seconds\n",
      "Average number of seconds per iteration up to now = 1.142431222475492 seconds\n",
      "ETA for Ip and Iu computation  = 50.61532033117194 seconds\n",
      "Average number of seconds per iteration up to now = 1.1247914307995845 seconds\n",
      "ETA for Ip and Iu computation  = 24.287427978515623 seconds\n",
      "Average number of seconds per iteration up to now = 1.156544189453125 seconds\n",
      "Total time for the loop = 144.2091679573059 seconds\n",
      "Average number of seconds per iteration for the loop = 1.1918113054322803 seconds\n"
     ]
    }
   ],
   "source": [
    "\n",
    "\n",
    "\n",
    "    startTime = time.time()\n",
    "    \n",
    "    for i in range(df.shape[0]):\n",
    "        ick = Compute_Is(df[\"a\"][i], df[\"b\"][i], Q_value)\n",
    "        df[\"LogIpOverIu\"][i] = math.log(ick[0]) - math.log(ick[1])\n",
    "        \n",
    "        if  i%73 == 8:\n",
    "            print(\"ETA for Ip and Iu computation  = \" +\n",
    "                      str( (df.shape[0] - i - 1) *(time.time() - startTime)/(i+1) ) + \" seconds\")\n",
    "            print(\"Average number of seconds per iteration up to now = \"\n",
    "                  + str((time.time() - startTime)/(i+1)) + \" seconds\")\n",
    "            \n",
    "    print(\"Total time for the loop = \" + str(time.time() - startTime) + \" seconds\")\n",
    "    print(\"Average number of seconds per iteration for the loop = \"\n",
    "          + str((time.time() - startTime)/(i+1)) + \" seconds\")\n",
    "    \n"
   ]
  },
  {
   "cell_type": "code",
   "execution_count": 22,
   "id": "3f3df2ab",
   "metadata": {},
   "outputs": [],
   "source": [
    "playsound(440, 2111)"
   ]
  },
  {
   "cell_type": "code",
   "execution_count": null,
   "id": "3f1e62b0",
   "metadata": {},
   "outputs": [],
   "source": []
  },
  {
   "cell_type": "code",
   "execution_count": null,
   "id": "2bf14636",
   "metadata": {},
   "outputs": [],
   "source": []
  },
  {
   "cell_type": "code",
   "execution_count": 23,
   "id": "b691d09e",
   "metadata": {},
   "outputs": [
    {
     "data": {
      "text/plain": [
       "2.2"
      ]
     },
     "execution_count": 23,
     "metadata": {},
     "output_type": "execute_result"
    }
   ],
   "source": [
    "np.max(df[\"a\"])"
   ]
  },
  {
   "cell_type": "code",
   "execution_count": null,
   "id": "59443236",
   "metadata": {},
   "outputs": [],
   "source": []
  },
  {
   "cell_type": "code",
   "execution_count": 24,
   "id": "de47562a",
   "metadata": {},
   "outputs": [],
   "source": [
    "Color_var = np.array(df[\"LogIpOverIu\"]) \n",
    "\n",
    "MinValue = np.min(Color_var)\n",
    "MaxValue = np.max(Color_var)\n",
    "\n",
    "scaled_Color_var = np.zeros(np.shape(Color_var))\n",
    "\n",
    "for i in range(np.shape(Color_var)[0]): \n",
    "    # colors are scaled piece-wisely linear in such a way that scaled_Color_var[i] = 0 if \n",
    "    # Color_var[i] = 0. In this way if df[\"LogIpOverIu\"][i] = 0, the color is gonna be in the middle between red and blue.\n",
    "    z = Color_var[i]\n",
    " \n",
    "    if z < 0:\n",
    "        scaled_Color_var[i] = 0.5 - 0.5*z/MinValue  \n",
    "    else:\n",
    "        scaled_Color_var[i] = 0.5 + 0.5*z/MaxValue \n",
    "        \n",
    "\n",
    "colors = plt.cm.coolwarm(scaled_Color_var)\n",
    "\n",
    "def inverse_color_transform(s):\n",
    "    if s >= 0.5:\n",
    "        return_value = MaxValue*(2*s-1)\n",
    "    else:\n",
    "        return_value = MinValue*(1-2*s)\n",
    "    return return_value"
   ]
  },
  {
   "cell_type": "code",
   "execution_count": 25,
   "id": "ee9ac3c3",
   "metadata": {},
   "outputs": [
    {
     "data": {
      "text/plain": [
       "(0.8674276350862745, 0.864376599772549, 0.8626024620196079, 1.0)"
      ]
     },
     "execution_count": 25,
     "metadata": {},
     "output_type": "execute_result"
    }
   ],
   "source": [
    "plt.cm.coolwarm(0.5)"
   ]
  },
  {
   "cell_type": "code",
   "execution_count": null,
   "id": "68aa4958",
   "metadata": {},
   "outputs": [],
   "source": []
  },
  {
   "cell_type": "code",
   "execution_count": 26,
   "id": "aa53cc69",
   "metadata": {},
   "outputs": [
    {
     "data": {
      "text/plain": [
       "0.6124360589954819"
      ]
     },
     "execution_count": 26,
     "metadata": {},
     "output_type": "execute_result"
    }
   ],
   "source": [
    "inverse_color_transform(0.9)"
   ]
  },
  {
   "cell_type": "code",
   "execution_count": 27,
   "id": "fe7fc26c",
   "metadata": {},
   "outputs": [],
   "source": [
    "import matplotlib.patches as mpatches"
   ]
  },
  {
   "cell_type": "code",
   "execution_count": 28,
   "id": "577cf8ae",
   "metadata": {},
   "outputs": [
    {
     "data": {
      "image/png": "[encoded data removed]",
      "text/plain": [
       "<Figure size 640x480 with 1 Axes>"
      ]
     },
     "metadata": {},
     "output_type": "display_data"
    }
   ],
   "source": [
    "plt.scatter(df[\"a\"], df[\"b\"],  color=colors, s=7.8)\n",
    "plt.ylabel('b')\n",
    "plt.xlabel('a')\n",
    "plt.title('Log(I_p) - Log(I_u), Q_value = ' + str(Q_value))\n",
    "\n",
    "\n",
    "patches = []\n",
    "\n",
    "Numbers_from_0_to_1 = np.linspace(start = 0, stop = 1, num = 9)\n",
    "\n",
    "for i in range(np.shape(Numbers_from_0_to_1)[0]):\n",
    "    patches.append(mpatches.Patch(color=plt.cm.coolwarm(Numbers_from_0_to_1[i]),\n",
    "                                  label= '{0:.3f}'.format(inverse_color_transform(Numbers_from_0_to_1[i])) ) )\n",
    "\n",
    "\n",
    "plt.legend(handles=patches, bbox_to_anchor=(1.04, 0.5), loc=\"center left\", borderaxespad=0)\n",
    "if SaveResults == True:\n",
    "    plt.savefig('Computation over grid' + str(int(time.time()//1)) + '.png', bbox_inches='tight')\n",
    "plt.show()"
   ]
  },
  {
   "cell_type": "code",
   "execution_count": 29,
   "id": "5d3093f4",
   "metadata": {},
   "outputs": [],
   "source": [
    "if SaveResults == True:\n",
    "    fileObj = open('df_Poland'  + str(int(time.time()//1)) + '.pkl', 'wb')\n",
    "    pickle.dump(df,fileObj)\n",
    "    fileObj.close()"
   ]
  },
  {
   "cell_type": "code",
   "execution_count": null,
   "id": "f8937b73",
   "metadata": {},
   "outputs": [],
   "source": []
  }
 ],
 "metadata": {
  "kernelspec": {
   "display_name": "Python 3 (ipykernel)",
   "language": "python",
   "name": "python3"
  },
  "language_info": {
   "codemirror_mode": {
    "name": "ipython",
    "version": 3
   },
   "file_extension": ".py",
   "mimetype": "text/x-python",
   "name": "python",
   "nbconvert_exporter": "python",
   "pygments_lexer": "ipython3",
   "version": "3.8.16"
  }
 },
 "nbformat": 4,
 "nbformat_minor": 5
}
