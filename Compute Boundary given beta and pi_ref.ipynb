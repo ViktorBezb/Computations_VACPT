{
 "cells": [
  {
   "cell_type": "code",
   "execution_count": 1,
   "id": "5fe93d02",
   "metadata": {},
   "outputs": [],
   "source": [
    "\n",
    "import numpy as np\n",
    "import random\n",
    "import matplotlib.pyplot as plt\n",
    "import math\n",
    "import time\n",
    "import scipy  \n",
    "import pandas as pd\n",
    "from scipy import stats\n",
    "import sys\n",
    "\n",
    "import os\n",
    "import pickle\n",
    "\n",
    "import seaborn as sns\n",
    "\n",
    "try:\n",
    "    import winsound\n",
    "except ImportError:\n",
    "    def playsound(frequency,duration):\n",
    "        print(\"No sound available because Linux\")\n",
    "    \n",
    "else:\n",
    "    def playsound(frequency,duration):\n",
    "        winsound.Beep(frequency,duration)\n",
    "\n",
    "\n",
    "\n",
    "np.set_printoptions(suppress=True, precision=5) # disable scientific notation\n",
    "\n",
    "# TO DO: # make plots of cp and cu depending on I_value"
   ]
  },
  {
   "cell_type": "code",
   "execution_count": 2,
   "id": "b4bbf4d1",
   "metadata": {},
   "outputs": [
    {
     "name": "stdout",
     "output_type": "stream",
     "text": [
      "No sound available because Linux\n"
     ]
    }
   ],
   "source": [
    "playsound(444,444)"
   ]
  },
  {
   "cell_type": "code",
   "execution_count": null,
   "id": "af5669d9",
   "metadata": {},
   "outputs": [],
   "source": []
  },
  {
   "cell_type": "code",
   "execution_count": null,
   "id": "4b7ed27c",
   "metadata": {},
   "outputs": [],
   "source": []
  },
  {
   "cell_type": "code",
   "execution_count": 3,
   "id": "c4d869f6",
   "metadata": {},
   "outputs": [],
   "source": [
    "distance_to_points = 0.127  # determins how many new points are included per iteration\n",
    "                            # higher value results in fewer iterations but more points will be computed\n",
    "                            # if the value is too low, some points may be missed. Not good\n",
    "                            # if the value is too high, too many points will be computed\n",
    "        \n",
    "        \n",
    "        \n",
    "Grid_size = 74               # the grid of Grid_size ^2 points is considered"
   ]
  },
  {
   "cell_type": "code",
   "execution_count": null,
   "id": "9db76cc3",
   "metadata": {},
   "outputs": [],
   "source": []
  },
  {
   "cell_type": "code",
   "execution_count": 4,
   "id": "b3e61269",
   "metadata": {},
   "outputs": [],
   "source": [
    "# kI  does not! affect the ratio I_p/I_u!\n",
    "kI = 0.00001"
   ]
  },
  {
   "cell_type": "code",
   "execution_count": 8,
   "id": "29236111",
   "metadata": {},
   "outputs": [],
   "source": [
    "# Polish population\n",
    "Pol_Pop = pd.read_csv(\"beta_30_Pl_AA.csv\")\n",
    "PolPopulation = np.array(Pol_Pop[\"SourcePopulation\"])\n",
    "PolPopulation = np.sort(PolPopulation)"
   ]
  },
  {
   "cell_type": "code",
   "execution_count": 9,
   "id": "00955a7e",
   "metadata": {},
   "outputs": [],
   "source": [
    "N_iterations = 39 \n",
    "N_cities = len(PolPopulation)\n",
    "#N_cities = 4 #number of city sizes in synthetic data"
   ]
  },
  {
   "cell_type": "code",
   "execution_count": 10,
   "id": "9686929b",
   "metadata": {},
   "outputs": [
    {
     "ename": "IndentationError",
     "evalue": "expected an indented block (3576163090.py, line 3)",
     "output_type": "error",
     "traceback": [
      "\u001b[0;36m  Cell \u001b[0;32mIn[10], line 3\u001b[0;36m\u001b[0m\n\u001b[0;31m    def initialize_cities_array():\u001b[0m\n\u001b[0m    ^\u001b[0m\n\u001b[0;31mIndentationError\u001b[0m\u001b[0;31m:\u001b[0m expected an indented block\n"
     ]
    }
   ],
   "source": [
    "    # initialize cities array. The distribution is given manually\n",
    "if False:\n",
    "    def initialize_cities_array():\n",
    "        \n",
    "        # zeroth column is city size y, first is beta(y), second is pi_p(y), third  pi_U(y)\n",
    "        zeta      = np.zeros((N_cities, 4))\n",
    "        zeta[0,0] = 1000\n",
    "        zeta[1,0] = 25369\n",
    "        zeta[2,0] = 110521\n",
    "        zeta[3,0] = 787445\n",
    "        \n",
    "        zeta[0,1] = 0.09\n",
    "        zeta[1,1] = 0.05\n",
    "        zeta[2,1] = 0.85\n",
    "        zeta[3,1] = 0.01\n",
    "        \n",
    "        zeta[:,2] = 0.99 #placeholder\n",
    "        zeta[:,3] = 0.99  #placeholder\n",
    "    \n",
    "    \n",
    "        return zeta"
   ]
  },
  {
   "cell_type": "code",
   "execution_count": 55,
   "id": "8e05c5e1",
   "metadata": {},
   "outputs": [
    {
     "name": "stdout",
     "output_type": "stream",
     "text": [
      "time for one evaluation of Q: 0.0001049041748046875\n",
      "[ 90303. 108752. 111281. 111965. 112073.]\n",
      "[0.0993  0.33124 0.49819 0.66593 0.8998 ]\n"
     ]
    }
   ],
   "source": [
    "#Different choices for Q_value depending on 5 choices of probability\n",
    "#adapted from \"threshold_through_pInfected\", the estimates are not precise\n",
    "Pi_choice = np.array([1/10, 1/3, 1/2, 2/3, 9/10])\n",
    "beta = PolPopulation\n",
    "a = 1.95\n",
    "b = -0.11\n",
    "\n",
    "pI_ref_log_size = 5. #log10 size of the cities taken as a reference\n",
    "Upper_R_pI_strU = 20 #upper-value in the different values of R0 tested\n",
    "Nr = 1000 #grid size in the different values of R0 tested\n",
    "\n",
    "r_0test= np.linspace(1.01, Upper_R_pI_strU, Nr)\n",
    "Lref = (beta>10**(pI_ref_log_size-0.1))&(beta<10**(pI_ref_log_size+0.1))\n",
    "#on an interval to capture at least one city\n",
    "\n",
    "pi_AU = np.ones(Nr)\n",
    "pi_BU= np.ones(Nr)\n",
    "pi_ref_U = np.zeros(Nr)\n",
    "\n",
    "RU = 1/N_cities*(np.sum(beta**(a+b)) + np.sqrt(np.sum(beta**(2*a-1))* np.sum(beta**(1+2*b))))\n",
    "KV0 = 1/RU\n",
    "bKA_U0 = KV0 * beta**(1+b)*np.sum(beta**(a-1))/N_cities\n",
    "bKB_U0 = KV0 * beta**(a)*np.sum(beta**(b))/N_cities\n",
    "\n",
    "bnuA_U = beta**(a-1)/np.sum(beta**(a-1))\n",
    "bnuB_U = beta**(b)/np.sum(beta**(b))\n",
    "\n",
    "Q_values = np.zeros(5)\n",
    "RU_ref = np.zeros(5)\n",
    "Pi_effective = np.zeros(5)\n",
    "\n",
    "for i in np.arange(Nr):\n",
    "    err = 1\n",
    "    n_it = 0\n",
    "    pi = 1- np.exp(- r_0test[i] *(bKA_U0 + bKB_U0) )\n",
    "    while (err > 5E-5) * (n_it < 500):\n",
    "        pi_AU[i]= np.sum(bnuA_U*pi)\n",
    "        pi_BU[i]= np.sum(bnuB_U*pi)\n",
    "        pi2 = 1-np.exp(- r_0test[i] *( bKA_U0 *pi_AU[i] +bKB_U0* pi_BU[i]))\n",
    "        err = np.max(np.abs(1-pi/pi2))\n",
    "        n_it = n_it +1\n",
    "        pi = pi2\n",
    "    pi_ref_U[i] = np.sum(pi[Lref])/np.sum(Lref)\n",
    "\n",
    "startTime = time.time()\n",
    "for j in np.arange(5):\n",
    "    RU_ref[j] = r_0test[np.sum(pi_ref_U<Pi_choice[j])-1]\n",
    "    Pi_effective[j] = pi_ref_U[np.sum(pi_ref_U<Pi_choice[j])-1]\n",
    "    err = 1\n",
    "    n_it = 0\n",
    "    pi = 1- np.exp(- RU_ref[j] *(bKA_U0 + bKB_U0) )\n",
    "    while (err > 5E-5) * (n_it < 500):\n",
    "        pi_AU[i]= np.sum(bnuA_U*pi)\n",
    "        pi_BU[i]= np.sum(bnuB_U*pi)\n",
    "        pi2 = 1-np.exp(- RU_ref[j] *( bKA_U0 *RU_ref[j] +bKB_U0* RU_ref[j]))\n",
    "        err = np.max(np.abs(1-pi/pi2))\n",
    "        n_it = n_it +1\n",
    "        pi = pi2\n",
    "    Q_values[j] = int(np.sum(pi * beta)/N_cities)\n",
    "print(\"time for one evaluation of Q: \"+str((time.time() - startTime)/5) )\n",
    "print(Q_values) #values of Q to sample from \n",
    "\n",
    "print(Pi_effective) #corresponding value of the probablity for a city of size 10^5 to be infected"
   ]
  },
  {
   "cell_type": "code",
   "execution_count": 28,
   "id": "21ad7782",
   "metadata": {},
   "outputs": [],
   "source": [
    "#Q_value = 47438\n",
    "Q_value = Q_values[0]"
   ]
  },
  {
   "cell_type": "code",
   "execution_count": null,
   "id": "2bb19b82",
   "metadata": {},
   "outputs": [],
   "source": []
  },
  {
   "cell_type": "code",
   "execution_count": 29,
   "id": "84b77ac5",
   "metadata": {},
   "outputs": [],
   "source": [
    "# for Poland all city sizes are unique\n",
    "if True:   \n",
    "    def initialize_cities_array():\n",
    "        \n",
    "        # zeroth column is city size y, first is beta(y), second is pi_p(y), third  pi_U(y)\n",
    "        zeta      = np.zeros((N_cities, 4))\n",
    "        zeta[:,0] = PolPopulation\n",
    "     \n",
    "        \n",
    "        zeta[:,1] = 1/N_cities\n",
    "        \n",
    "        zeta[:,2] = 0.99 #placeholder\n",
    "        zeta[:,3] = 0.99  #placeholder\n",
    "    \n",
    "    \n",
    "        return zeta"
   ]
  },
  {
   "cell_type": "code",
   "execution_count": 30,
   "id": "9945ac8b",
   "metadata": {},
   "outputs": [],
   "source": [
    "def Compute_piP(a,b,cp): \n",
    "    # compute pi_P given a,b, and cp =  p_v \n",
    "    xi        = initialize_cities_array()\n",
    "    \n",
    "    for i in range(N_iterations):\n",
    "        Integral1 = 0\n",
    "        Integral2 = 0\n",
    "        Integral  = 0\n",
    "        for j in range(np.shape(xi)[0]):\n",
    "            Integral1 = Integral1 +  (xi[j,0]) ** (b+1) * xi [j, 2] * xi[j,1]   # y ^{b+1} * \\beta (dy) * \\Pi _p (y) \n",
    "            Integral2 = Integral2 +  (xi[j,0]) ** (a)   * xi [j, 2] * xi[j,1]\n",
    "\n",
    "        for j in range(np.shape(xi)[0]):\n",
    "            x = xi[j,0]\n",
    "            Exponent = kI * cp * x ** a * Integral1 +  kI * cp * x ** (b+1) * Integral2\n",
    "            #print(Exponent)\n",
    "            #print(str(c) + \",  \" + str(x)+ \",  \" + str(Integral1)+ \",  \" + str(Integral2))\n",
    "            xi [j, 2] = 1 - math.exp( - Exponent)\n",
    "            \n",
    "    return xi"
   ]
  },
  {
   "cell_type": "code",
   "execution_count": 31,
   "id": "23f0662f",
   "metadata": {},
   "outputs": [],
   "source": [
    "def Compute_piU(a,b,cu):\n",
    "    # compute pi_U given a,b, and cu =  L_v \n",
    "    xi        = initialize_cities_array()\n",
    "    \n",
    "    for i in range(N_iterations):\n",
    "        Integral1 = 0\n",
    "        Integral2 = 0\n",
    "        Integral  = 0\n",
    "        for j in range(np.shape(xi)[0]):\n",
    "            Integral1 = Integral1 +  (xi[j,0]) ** (b) * xi [j, 3] * xi[j,1]   # y ^{b} * \\beta (dy) * \\Pi _u (y) \n",
    "            Integral2 = Integral2 +  (xi[j,0]) ** (a-1)   * xi [j, 3] * xi[j,1]\n",
    "\n",
    "        for j in range(np.shape(xi)[0]):\n",
    "            x = xi[j,0]\n",
    "            Exponent = kI * cu * x ** a * Integral1 + kI * cu * x ** (b+1) * Integral2\n",
    "            #print(Exponent)\n",
    "            #print(str(c) + \",  \" + str(x)+ \",  \" + str(Integral1)+ \",  \" + str(Integral2))\n",
    "            xi [j, 3] = 1 - math.exp( - Exponent)\n",
    "            \n",
    "    return xi "
   ]
  },
  {
   "cell_type": "code",
   "execution_count": 32,
   "id": "beb4a648",
   "metadata": {},
   "outputs": [],
   "source": [
    "# compute Ip given a,b, and cp =  p_v \n",
    "\n",
    "def Ip_function(a,b, cp):\n",
    "    xi        = Compute_piP(a,b,cp)\n",
    "\n",
    "            \n",
    "    Ip_value = 0\n",
    "    for j in range(np.shape(xi)[0]):\n",
    "        Ip_value = Ip_value + xi[j,0]* xi[j,2] * xi[j,1] \n",
    "    \n",
    "    Ip_value = cp * Ip_value\n",
    "    \n",
    "    return Ip_value\n",
    "    \n",
    "    \n",
    "\n",
    "    "
   ]
  },
  {
   "cell_type": "code",
   "execution_count": 33,
   "id": "37ff513d",
   "metadata": {},
   "outputs": [],
   "source": [
    "# compute Iu given a,b,   cu =   L_v\n",
    "\n",
    "def Iu_function(a,b, cu):\n",
    "    \n",
    "    xi = Compute_piU(a,b,cu)\n",
    "       \n",
    "    Iu_value = 0\n",
    "    for j in range(np.shape(xi)[0]):\n",
    "        Iu_value = Iu_value +  xi[j,3] * xi[j,1] \n",
    "    \n",
    "    Iu_value = cu * Iu_value\n",
    "    \n",
    "    return Iu_value"
   ]
  },
  {
   "cell_type": "code",
   "execution_count": 34,
   "id": "554bb414",
   "metadata": {},
   "outputs": [],
   "source": [
    " # compute Q_p given a,b, and cp =  p_v \n",
    "\n",
    "def Qp_function(a,b, cp):\n",
    "    \n",
    "    xi        = Compute_piP(a,b,cp)\n",
    "   \n",
    "    Qp_value = 0\n",
    "    for j in range(np.shape(xi)[0]):\n",
    "        Qp_value = Qp_value + xi[j,0]* xi[j,2] * xi[j,1]  # y * pi _p (y) * beta(y)\n",
    "    \n",
    "    return Qp_value\n",
    "    "
   ]
  },
  {
   "cell_type": "code",
   "execution_count": 35,
   "id": "aa31eab4",
   "metadata": {},
   "outputs": [],
   "source": [
    "# compute Q_u given a,b, and cu =  L_v \n",
    "\n",
    "def Qu_function(a,b, cu):\n",
    "    \n",
    "    xi        = Compute_piU(a,b,cu)\n",
    "   \n",
    "    Qu_value = 0\n",
    "    for j in range(np.shape(xi)[0]):\n",
    "        Qu_value = Qu_value + xi[j,0]* xi[j,3] * xi[j,1]  # y * pi _u (y) * beta(y)\n",
    "    \n",
    "    return Qu_value"
   ]
  },
  {
   "cell_type": "code",
   "execution_count": 56,
   "id": "623a4c39",
   "metadata": {},
   "outputs": [
    {
     "name": "stdout",
     "output_type": "stream",
     "text": [
      "cu = 0.5130144690887082\n",
      "This should be 90303.0: 112073.91788856301\n",
      "cu = 0.12240188287137027\n",
      "This should be 90303.0: 112073.91788856301\n",
      "cu = 0.038449321230990846\n",
      "This should be 90303.0: 112073.91788856301\n",
      "cu = 0.020460710866332058\n",
      "This should be 90303.0: 112073.91788856301\n",
      "cu = 0.008552169570039373\n",
      "This should be 90303.0: 112073.91788856301\n",
      "cu = 0.0015166631992457396\n",
      "This should be 90303.0: 112073.88812222565\n",
      "cu = 0.000515148399605481\n",
      "This should be 90303.0: 112034.00498089529\n",
      "cu = 0.00022360938967651766\n",
      "This should be 90303.0: 110937.08747326591\n",
      "cu = 6.06816278056035e-05\n",
      "This should be 90303.0: 90302.95310201333\n",
      "time for one evaluation of Q: 0.020877361297607422\n"
     ]
    }
   ],
   "source": [
    "cu = Compute_cu(a,b,Q_value, Verbose = True)\n",
    "startTime = time.time()\n",
    "Qu_function(a,b, cu)\n",
    "print(\"time for one evaluation of Q: \"+str((time.time() - startTime)) )"
   ]
  },
  {
   "cell_type": "code",
   "execution_count": 36,
   "id": "c9b5f324",
   "metadata": {},
   "outputs": [],
   "source": [
    "def Compute_cp(a,b,Q_value, Verbose = True):  # computes cp so that Qp_function(a,b,cp) = Q_value\n",
    "    \n",
    "    if Q_value > maxQ_value() - 0.1:\n",
    "        raise ValueError(\"Q_value is too high!\")\n",
    "        \n",
    "    cp = 1.9619 * 0.000001 * math.exp(0.03*np.random.normal())  #first guess\n",
    "    This_should_get_to_Q_value = 0.8\n",
    "    delta_c = cp * 0.04 * math.exp(0.011*np.random.normal())\n",
    "    \n",
    "    iteration_number = 0\n",
    "    \n",
    "    while abs(This_should_get_to_Q_value  - Q_value) > 0.1:\n",
    "        iteration_number = iteration_number + 1\n",
    "        if This_should_get_to_Q_value  - Q_value > 0.1:\n",
    "            cp = cp - delta_c\n",
    "        elif This_should_get_to_Q_value  - Q_value < -0.1:\n",
    "            cp = cp + delta_c \n",
    "            \n",
    "        if (This_should_get_to_Q_value - 1)/ (Q_value + 11) > 2.2:\n",
    "            cp = cp * 0.94\n",
    "            delta_c = cp * 0.04 * math.exp(0.05*np.random.normal())\n",
    "        \n",
    "        if (This_should_get_to_Q_value + 11)/ (Q_value ) <  0.42:\n",
    "            cp = cp * 1.07\n",
    "            delta_c = cp * 0.04 * math.exp(0.05*np.random.normal())\n",
    "    \n",
    "        delta_c = delta_c * 0.95\n",
    "    \n",
    "        This_should_get_to_Q_value = Qp_function(a, b, cp)\n",
    "        if Verbose == True:\n",
    "            if  iteration_number %137 == 4:\n",
    "                print(\"cp = \" + str(cp))\n",
    "                print(\"This should be \" + str(Q_value) + \": \" + str(This_should_get_to_Q_value))\n",
    "    \n",
    "        if iteration_number % 200 == 198:\n",
    "            delta_c = cp * 0.04 * math.exp(0.07*np.random.normal())\n",
    "    if Verbose == True:\n",
    "        print(\"cp = \" + str(cp))\n",
    "        print(\"This should be \" +str(Q_value)+  \": \" + str(This_should_get_to_Q_value))\n",
    "        \n",
    "    return cp"
   ]
  },
  {
   "cell_type": "code",
   "execution_count": 37,
   "id": "14e31db5",
   "metadata": {},
   "outputs": [],
   "source": [
    "def Compute_cu(a,b,Q_value, Verbose = True):  # computes cu so that Qu_function(a,b,cu) = Q_value\n",
    "    \n",
    "    if Q_value > maxQ_value() - 0.1:\n",
    "        raise ValueError(\"Q_value is too high!\")\n",
    "    \n",
    "    cu = 0.52057344248  * math.exp(0.01*np.random.normal())  #first guess\n",
    "    This_should_get_to_Q_value = 0.8\n",
    "    delta_c = cu * 0.04 * math.exp(0.011*np.random.normal())\n",
    "    \n",
    "    iteration_number = 0\n",
    "    \n",
    "    while abs(This_should_get_to_Q_value  - Q_value) > 0.1:\n",
    "        iteration_number = iteration_number + 1\n",
    "        if This_should_get_to_Q_value  - Q_value > 0.1:\n",
    "            cu = cu - delta_c\n",
    "        elif This_should_get_to_Q_value  - Q_value < -0.1:\n",
    "            cu = cu + delta_c \n",
    "            \n",
    "        if (This_should_get_to_Q_value - 1)/ (Q_value + 11) > 2.2:\n",
    "            cu = cu * 0.94\n",
    "            delta_c = cu * 0.04 * math.exp(0.05*np.random.normal())\n",
    "        \n",
    "        if (This_should_get_to_Q_value + 11)/ (Q_value ) <  0.42:\n",
    "            cu = cu * 1.07\n",
    "            delta_c = cu * 0.04 * math.exp(0.05*np.random.normal())\n",
    "    \n",
    "        delta_c = delta_c * 0.95\n",
    "    \n",
    "        This_should_get_to_Q_value = Qu_function(a, b, cu)\n",
    "        if Verbose == True:\n",
    "            if  iteration_number %137 == 4:\n",
    "                print(\"cu = \" + str(cu))\n",
    "                print(\"This should be \" + str(Q_value) + \": \" + str(This_should_get_to_Q_value))\n",
    "    \n",
    "        if iteration_number % 200 == 198:\n",
    "            delta_c = cu * 0.04 * math.exp(0.07*np.random.normal())\n",
    "    if Verbose == True:\n",
    "        print(\"cu = \" + str(cu))\n",
    "        print(\"This should be \" +str(Q_value)+  \": \" + str(This_should_get_to_Q_value))\n",
    "        \n",
    "    return cu"
   ]
  },
  {
   "cell_type": "code",
   "execution_count": null,
   "id": "fc99a6d1",
   "metadata": {},
   "outputs": [],
   "source": []
  },
  {
   "cell_type": "code",
   "execution_count": null,
   "id": "4c6b3792",
   "metadata": {
    "scrolled": false
   },
   "outputs": [],
   "source": []
  },
  {
   "cell_type": "code",
   "execution_count": null,
   "id": "c07607cf",
   "metadata": {},
   "outputs": [],
   "source": []
  },
  {
   "cell_type": "code",
   "execution_count": null,
   "id": "cc1acdef",
   "metadata": {},
   "outputs": [],
   "source": []
  },
  {
   "cell_type": "code",
   "execution_count": 38,
   "id": "ec251968",
   "metadata": {},
   "outputs": [],
   "source": [
    "def Compute_piU_and_piP(a,b, Q_value): \n",
    "    #for a given a,b, Q_value compute cp, cu, so that Qp = Qu = Q_value. Returns eta, \n",
    "    # the array consisting of 4 columns: zeroth column is city size y, first is beta(y), second is pi_p(y), third  pi_u(y)\n",
    "    \n",
    "    cp = Compute_cp(a,b,Q_value, Verbose = False)\n",
    "    cu = Compute_cu(a,b,Q_value, Verbose = False)\n",
    "    \n",
    "    \n",
    "    eta = initialize_cities_array()\n",
    "    \n",
    "    # recompute  pi_p(y) with the correct cp\n",
    "    for i in range(N_iterations):\n",
    "        Integral1 = 0\n",
    "        Integral2 = 0\n",
    "        Integral  = 0\n",
    "        for j in range(np.shape(eta)[0]):\n",
    "            Integral1 = Integral1 +  (eta[j,0]) ** (b+1) * eta [j, 2] * eta[j,1]   # y ^{b+1} * \\beta (dy) * \\Pi _p (y) \n",
    "            Integral2 = Integral2 +  (eta[j,0]) ** (a)   * eta [j, 2] * eta[j,1]\n",
    "\n",
    "        for j in range(np.shape(eta)[0]):\n",
    "            x = eta[j,0]\n",
    "            Exponent = kI * cp * x ** a * Integral1 +  kI * cp * x ** (b+1) * Integral2\n",
    "            #print(Exponent)\n",
    "            #print(str(c) + \",  \" + str(x)+ \",  \" + str(Integral1)+ \",  \" + str(Integral2))\n",
    "            eta [j, 2] = 1 - math.exp( - Exponent)\n",
    "    \n",
    "    # recompute  pi_u(y) with the correct cp\n",
    "    for i in range(N_iterations):\n",
    "        Integral1 = 0\n",
    "        Integral2 = 0\n",
    "        Integral  = 0\n",
    "        for j in range(np.shape(eta)[0]):\n",
    "            Integral1 = Integral1 +  (eta[j,0]) ** (b) * eta [j, 3] * eta[j,1]   # y ^{b} * \\beta (dy) * \\Pi _u (y) \n",
    "            Integral2 = Integral2 +  (eta[j,0]) ** (a-1)   * eta [j, 3] * eta[j,1]\n",
    "\n",
    "        for j in range(np.shape(eta)[0]):\n",
    "            x = eta[j,0]\n",
    "            Exponent = kI * cu * x ** a * Integral1 +  kI * cu * x ** (b+1) * Integral2\n",
    "            #print(Exponent)\n",
    "            #print(str(c) + \",  \" + str(x)+ \",  \" + str(Integral1)+ \",  \" + str(Integral2))\n",
    "            eta [j, 3] = 1 - math.exp( - Exponent)\n",
    "            \n",
    "    \n",
    "    return [eta, cp, cu]"
   ]
  },
  {
   "cell_type": "code",
   "execution_count": 39,
   "id": "8662ccb7",
   "metadata": {},
   "outputs": [],
   "source": [
    "def Compute_Is(a,b,Q_value): #computes values I_p and I_q given a,b, and Q_value\n",
    "    \n",
    "    # get the correct cities array with correct probabilities\n",
    "    eta, cp, cu = Compute_piU_and_piP(a,b, Q_value)\n",
    "    \n",
    "    \n",
    "    Ip_value = 0\n",
    "    for j in range(np.shape(eta)[0]):\n",
    "        Ip_value = Ip_value + eta[j,0]* eta[j,2] * eta[j,1] \n",
    "    \n",
    "    Ip_value = cp * Ip_value\n",
    "\n",
    "    Iu_value = 0\n",
    "    for j in range(np.shape(eta)[0]):\n",
    "        Iu_value = Iu_value +  eta[j,3] * eta[j,1] \n",
    "    \n",
    "    Iu_value = cu * Iu_value\n",
    " \n",
    "     \n",
    "    return [Ip_value, Iu_value]"
   ]
  },
  {
   "cell_type": "code",
   "execution_count": 40,
   "id": "84898d1f",
   "metadata": {},
   "outputs": [],
   "source": [
    "def maxQ_value(): #maximal possilbe Q _value, corresponds to pi = 1\n",
    "    xi  = initialize_cities_array()\n",
    "    \n",
    "    maxQ_value = 0\n",
    "    for j in range(np.shape(xi)[0]):\n",
    "        maxQ_value = maxQ_value + xi[j,0] * xi[j,1] # y * beta(y)\n",
    "        \n",
    "    return maxQ_value\n",
    "        "
   ]
  },
  {
   "cell_type": "code",
   "execution_count": 49,
   "id": "7b39796d",
   "metadata": {},
   "outputs": [],
   "source": [
    "if Q_value > maxQ_value() - 0.1:\n",
    "    raise ValueError(\"Q_value is too high!\")"
   ]
  },
  {
   "cell_type": "code",
   "execution_count": null,
   "id": "9956eb6f",
   "metadata": {},
   "outputs": [],
   "source": []
  },
  {
   "cell_type": "code",
   "execution_count": null,
   "id": "37e55641",
   "metadata": {},
   "outputs": [],
   "source": []
  },
  {
   "cell_type": "code",
   "execution_count": null,
   "id": "e7a94206",
   "metadata": {},
   "outputs": [],
   "source": []
  },
  {
   "cell_type": "code",
   "execution_count": null,
   "id": "33310954",
   "metadata": {},
   "outputs": [],
   "source": []
  },
  {
   "cell_type": "code",
   "execution_count": null,
   "id": "29834abe",
   "metadata": {},
   "outputs": [],
   "source": []
  },
  {
   "cell_type": "code",
   "execution_count": 50,
   "id": "5d3093f4",
   "metadata": {},
   "outputs": [],
   "source": [
    "def getPointsCloseToBoundary(df, DF_boundary, distance_to_points ):\n",
    "    Points_close_to_the_boundary = []\n",
    "\n",
    "    for i in range(df.shape[0]):   # add points close to the old boundary\n",
    "        ai = df[\"a\"][i]\n",
    "        bi = df[\"b\"][i]\n",
    "        Distance = 1\n",
    "        for j in range(DF_boundary.shape[0]):\n",
    "            aj = DF_boundary[\"a\"][j]\n",
    "            bj = DF_boundary[\"b\"][j]\n",
    "            Distance = ( (ai - aj) **2 + (bi - bj) **2  )**(0.5)\n",
    "            if Distance < distance_to_points:\n",
    "                Points_close_to_the_boundary.append(i)\n",
    "                break\n",
    "\n",
    "    Returndf = df.iloc[Points_close_to_the_boundary] \n",
    "    Returndf = Returndf.reset_index(drop=True) # reset indices\n",
    "    \n",
    "    return Returndf\n",
    "\n",
    "def getBoundary(df):\n",
    "\n",
    "    Indices_of_boundary_points = []\n",
    "\n",
    "    for i in range(df.shape[0]):\n",
    "        ai = df[\"a\"][i]\n",
    "        bi = df[\"b\"][i]\n",
    "\n",
    "        for j in range(i+1): \n",
    "            aj = df[\"a\"][j]\n",
    "            bj = df[\"b\"][j]\n",
    "            GraphDistance = (abs(ai-aj) + abs(bi-bj))/ Delta\n",
    "            if GraphDistance > 0.5 and GraphDistance < 1.5:\n",
    "                #print(\"pair\")\n",
    "                if abs(Signs[i]- Signs[j]) > 0.5:\n",
    "                    Indices_of_boundary_points.extend([i,j])\n",
    "                    \n",
    "    Indices_of_boundary_points =  list(set(Indices_of_boundary_points))\n",
    "    DF_boundary = df.iloc[Indices_of_boundary_points]\n",
    "    Signs_boundary = Signs[Indices_of_boundary_points]\n",
    "    DF_boundary = DF_boundary.reset_index(drop=True)\n",
    "                    \n",
    "    return DF_boundary\n"
   ]
  },
  {
   "cell_type": "code",
   "execution_count": 51,
   "id": "d752096f",
   "metadata": {
    "scrolled": false
   },
   "outputs": [
    {
     "name": "stdout",
     "output_type": "stream",
     "text": [
      "Iteration number 1 has began...\n"
     ]
    },
    {
     "data": {
      "image/png": "[encoded data removed]",
      "text/plain": [
       "<Figure size 640x480 with 1 Axes>"
      ]
     },
     "metadata": {},
     "output_type": "display_data"
    },
    {
     "name": "stdout",
     "output_type": "stream",
     "text": [
      "ETA for LogIpOverIu computation in this iteration = 1280.52712392807 seconds\n",
      "ETA for LogIpOverIu computation in this iteration = 896.6948766027178 seconds\n"
     ]
    },
    {
     "ename": "KeyboardInterrupt",
     "evalue": "",
     "output_type": "error",
     "traceback": [
      "\u001b[0;31m---------------------------------------------------------------------------\u001b[0m",
      "\u001b[0;31mKeyboardInterrupt\u001b[0m                         Traceback (most recent call last)",
      "Cell \u001b[0;32mIn[51], line 60\u001b[0m\n\u001b[1;32m     58\u001b[0m     df[\u001b[38;5;124m\"\u001b[39m\u001b[38;5;124mLogIpOverIu\u001b[39m\u001b[38;5;124m\"\u001b[39m][i] \u001b[38;5;241m=\u001b[39m Computed_points[\u001b[38;5;124m\"\u001b[39m\u001b[38;5;124mLogIpOverIu\u001b[39m\u001b[38;5;124m\"\u001b[39m][Index_in_Computed_points]\n\u001b[1;32m     59\u001b[0m \u001b[38;5;28;01melif\u001b[39;00m \u001b[38;5;28mabs\u001b[39m(Index_in_Computed_points \u001b[38;5;241m+\u001b[39m\u001b[38;5;241m2\u001b[39m) \u001b[38;5;241m<\u001b[39m \u001b[38;5;241m0.001\u001b[39m:\n\u001b[0;32m---> 60\u001b[0m     ick \u001b[38;5;241m=\u001b[39m \u001b[43mCompute_Is\u001b[49m\u001b[43m(\u001b[49m\u001b[43mdf\u001b[49m\u001b[43m[\u001b[49m\u001b[38;5;124;43m\"\u001b[39;49m\u001b[38;5;124;43ma\u001b[39;49m\u001b[38;5;124;43m\"\u001b[39;49m\u001b[43m]\u001b[49m\u001b[43m[\u001b[49m\u001b[43mi\u001b[49m\u001b[43m]\u001b[49m\u001b[43m,\u001b[49m\u001b[43m \u001b[49m\u001b[43mdf\u001b[49m\u001b[43m[\u001b[49m\u001b[38;5;124;43m\"\u001b[39;49m\u001b[38;5;124;43mb\u001b[39;49m\u001b[38;5;124;43m\"\u001b[39;49m\u001b[43m]\u001b[49m\u001b[43m[\u001b[49m\u001b[43mi\u001b[49m\u001b[43m]\u001b[49m\u001b[43m,\u001b[49m\u001b[43m \u001b[49m\u001b[43mQ_value\u001b[49m\u001b[43m)\u001b[49m\n\u001b[1;32m     61\u001b[0m     df[\u001b[38;5;124m\"\u001b[39m\u001b[38;5;124mLogIpOverIu\u001b[39m\u001b[38;5;124m\"\u001b[39m][i] \u001b[38;5;241m=\u001b[39m math\u001b[38;5;241m.\u001b[39mlog(ick[\u001b[38;5;241m0\u001b[39m]) \u001b[38;5;241m-\u001b[39m math\u001b[38;5;241m.\u001b[39mlog(ick[\u001b[38;5;241m1\u001b[39m])\n\u001b[1;32m     62\u001b[0m \u001b[38;5;28;01melse\u001b[39;00m:\n",
      "Cell \u001b[0;32mIn[39], line 4\u001b[0m, in \u001b[0;36mCompute_Is\u001b[0;34m(a, b, Q_value)\u001b[0m\n\u001b[1;32m      1\u001b[0m \u001b[38;5;28;01mdef\u001b[39;00m \u001b[38;5;21mCompute_Is\u001b[39m(a,b,Q_value): \u001b[38;5;66;03m#computes values I_p and I_q given a,b, and Q_value\u001b[39;00m\n\u001b[1;32m      2\u001b[0m     \n\u001b[1;32m      3\u001b[0m     \u001b[38;5;66;03m# get the correct cities array with correct probabilities\u001b[39;00m\n\u001b[0;32m----> 4\u001b[0m     eta, cp, cu \u001b[38;5;241m=\u001b[39m \u001b[43mCompute_piU_and_piP\u001b[49m\u001b[43m(\u001b[49m\u001b[43ma\u001b[49m\u001b[43m,\u001b[49m\u001b[43mb\u001b[49m\u001b[43m,\u001b[49m\u001b[43m \u001b[49m\u001b[43mQ_value\u001b[49m\u001b[43m)\u001b[49m\n\u001b[1;32m      7\u001b[0m     Ip_value \u001b[38;5;241m=\u001b[39m \u001b[38;5;241m0\u001b[39m\n\u001b[1;32m      8\u001b[0m     \u001b[38;5;28;01mfor\u001b[39;00m j \u001b[38;5;129;01min\u001b[39;00m \u001b[38;5;28mrange\u001b[39m(np\u001b[38;5;241m.\u001b[39mshape(eta)[\u001b[38;5;241m0\u001b[39m]):\n",
      "Cell \u001b[0;32mIn[38], line 5\u001b[0m, in \u001b[0;36mCompute_piU_and_piP\u001b[0;34m(a, b, Q_value)\u001b[0m\n\u001b[1;32m      1\u001b[0m \u001b[38;5;28;01mdef\u001b[39;00m \u001b[38;5;21mCompute_piU_and_piP\u001b[39m(a,b, Q_value): \n\u001b[1;32m      2\u001b[0m     \u001b[38;5;66;03m#for a given a,b, Q_value compute cp, cu, so that Qp = Qu = Q_value. Returns eta, \u001b[39;00m\n\u001b[1;32m      3\u001b[0m     \u001b[38;5;66;03m# the array consisting of 4 columns: zeroth column is city size y, first is beta(y), second is pi_p(y), third  pi_u(y)\u001b[39;00m\n\u001b[0;32m----> 5\u001b[0m     cp \u001b[38;5;241m=\u001b[39m \u001b[43mCompute_cp\u001b[49m\u001b[43m(\u001b[49m\u001b[43ma\u001b[49m\u001b[43m,\u001b[49m\u001b[43mb\u001b[49m\u001b[43m,\u001b[49m\u001b[43mQ_value\u001b[49m\u001b[43m,\u001b[49m\u001b[43m \u001b[49m\u001b[43mVerbose\u001b[49m\u001b[43m \u001b[49m\u001b[38;5;241;43m=\u001b[39;49m\u001b[43m \u001b[49m\u001b[38;5;28;43;01mFalse\u001b[39;49;00m\u001b[43m)\u001b[49m\n\u001b[1;32m      6\u001b[0m     cu \u001b[38;5;241m=\u001b[39m Compute_cu(a,b,Q_value, Verbose \u001b[38;5;241m=\u001b[39m \u001b[38;5;28;01mFalse\u001b[39;00m)\n\u001b[1;32m      9\u001b[0m     eta \u001b[38;5;241m=\u001b[39m initialize_cities_array()\n",
      "Cell \u001b[0;32mIn[36], line 29\u001b[0m, in \u001b[0;36mCompute_cp\u001b[0;34m(a, b, Q_value, Verbose)\u001b[0m\n\u001b[1;32m     25\u001b[0m     delta_c \u001b[38;5;241m=\u001b[39m cp \u001b[38;5;241m*\u001b[39m \u001b[38;5;241m0.04\u001b[39m \u001b[38;5;241m*\u001b[39m math\u001b[38;5;241m.\u001b[39mexp(\u001b[38;5;241m0.05\u001b[39m\u001b[38;5;241m*\u001b[39mnp\u001b[38;5;241m.\u001b[39mrandom\u001b[38;5;241m.\u001b[39mnormal())\n\u001b[1;32m     27\u001b[0m delta_c \u001b[38;5;241m=\u001b[39m delta_c \u001b[38;5;241m*\u001b[39m \u001b[38;5;241m0.95\u001b[39m\n\u001b[0;32m---> 29\u001b[0m This_should_get_to_Q_value \u001b[38;5;241m=\u001b[39m \u001b[43mQp_function\u001b[49m\u001b[43m(\u001b[49m\u001b[43ma\u001b[49m\u001b[43m,\u001b[49m\u001b[43m \u001b[49m\u001b[43mb\u001b[49m\u001b[43m,\u001b[49m\u001b[43m \u001b[49m\u001b[43mcp\u001b[49m\u001b[43m)\u001b[49m\n\u001b[1;32m     30\u001b[0m \u001b[38;5;28;01mif\u001b[39;00m Verbose \u001b[38;5;241m==\u001b[39m \u001b[38;5;28;01mTrue\u001b[39;00m:\n\u001b[1;32m     31\u001b[0m     \u001b[38;5;28;01mif\u001b[39;00m  iteration_number \u001b[38;5;241m%\u001b[39m\u001b[38;5;241m137\u001b[39m \u001b[38;5;241m==\u001b[39m \u001b[38;5;241m4\u001b[39m:\n",
      "Cell \u001b[0;32mIn[34], line 5\u001b[0m, in \u001b[0;36mQp_function\u001b[0;34m(a, b, cp)\u001b[0m\n\u001b[1;32m      3\u001b[0m \u001b[38;5;28;01mdef\u001b[39;00m \u001b[38;5;21mQp_function\u001b[39m(a,b, cp):\n\u001b[0;32m----> 5\u001b[0m    xi        \u001b[38;5;241m=\u001b[39m \u001b[43mCompute_piP\u001b[49m\u001b[43m(\u001b[49m\u001b[43ma\u001b[49m\u001b[43m,\u001b[49m\u001b[43mb\u001b[49m\u001b[43m,\u001b[49m\u001b[43mcp\u001b[49m\u001b[43m)\u001b[49m\n\u001b[1;32m      7\u001b[0m    Qp_value \u001b[38;5;241m=\u001b[39m \u001b[38;5;241m0\u001b[39m\n\u001b[1;32m      8\u001b[0m    \u001b[38;5;28;01mfor\u001b[39;00m j \u001b[38;5;129;01min\u001b[39;00m \u001b[38;5;28mrange\u001b[39m(np\u001b[38;5;241m.\u001b[39mshape(xi)[\u001b[38;5;241m0\u001b[39m]):\n",
      "Cell \u001b[0;32mIn[30], line 18\u001b[0m, in \u001b[0;36mCompute_piP\u001b[0;34m(a, b, cp)\u001b[0m\n\u001b[1;32m     15\u001b[0m         Exponent \u001b[38;5;241m=\u001b[39m kI \u001b[38;5;241m*\u001b[39m cp \u001b[38;5;241m*\u001b[39m x \u001b[38;5;241m*\u001b[39m\u001b[38;5;241m*\u001b[39m a \u001b[38;5;241m*\u001b[39m Integral1 \u001b[38;5;241m+\u001b[39m  kI \u001b[38;5;241m*\u001b[39m cp \u001b[38;5;241m*\u001b[39m x \u001b[38;5;241m*\u001b[39m\u001b[38;5;241m*\u001b[39m (b\u001b[38;5;241m+\u001b[39m\u001b[38;5;241m1\u001b[39m) \u001b[38;5;241m*\u001b[39m Integral2\n\u001b[1;32m     16\u001b[0m         \u001b[38;5;66;03m#print(Exponent)\u001b[39;00m\n\u001b[1;32m     17\u001b[0m         \u001b[38;5;66;03m#print(str(c) + \",  \" + str(x)+ \",  \" + str(Integral1)+ \",  \" + str(Integral2))\u001b[39;00m\n\u001b[0;32m---> 18\u001b[0m         xi [j, \u001b[38;5;241m2\u001b[39m] \u001b[38;5;241m=\u001b[39m \u001b[38;5;241m1\u001b[39m \u001b[38;5;241m-\u001b[39m math\u001b[38;5;241m.\u001b[39mexp( \u001b[38;5;241m-\u001b[39m Exponent)\n\u001b[1;32m     20\u001b[0m \u001b[38;5;28;01mreturn\u001b[39;00m xi\n",
      "\u001b[0;31mKeyboardInterrupt\u001b[0m: "
     ]
    }
   ],
   "source": [
    "iteration_number = 0\n",
    "\n",
    "Boundary_is_invariant = False\n",
    "\n",
    "while iteration_number < 81 and not Boundary_is_invariant:\n",
    "    \n",
    "    iteration_number = iteration_number +1\n",
    "    print( \"Iteration number \" + str(iteration_number) + \" has began...\")\n",
    "    aas = np.linspace(start=-0.85, stop=2.87, num=Grid_size) \n",
    "    bbs = np.linspace(start=-1.75, stop= 1.67, num=Grid_size)\n",
    "    if iteration_number == 1: \n",
    "        aas = np.linspace(start=0.5, stop=1.5, num=10) \n",
    "        bbs = np.linspace(start=0.5 - 1, stop=1.5 - 1, num=10)\n",
    "    Delta = (np.max(aas) - np.min(aas))/(np.shape(aas)[0] - 1)\n",
    "    \n",
    "    # get cartesian product of aas and bbs\n",
    "    df = pd.MultiIndex.from_product([aas, bbs], names = [\"a\", \"b\"])\n",
    "    df = pd.DataFrame(index = df).reset_index()\n",
    "    zeros = np.zeros(( df.shape[0],1))\n",
    "    df[\"LogIpOverIu\"] = zeros  \n",
    "    df = df.sample(frac=1).reset_index(drop=True)  #shuffle rows\n",
    "    \n",
    "    if iteration_number == 2:\n",
    "        df = getPointsCloseToBoundary(df, DF_boundary, 1.2*distance_to_points)\n",
    "    if iteration_number > 2.2:\n",
    "        df = getPointsCloseToBoundary(df, DF_boundary, distance_to_points)\n",
    "        \n",
    "\n",
    "\n",
    "        \n",
    "    \n",
    "    plt.scatter(df[\"a\"], df[\"b\"], s=1)\n",
    "    plt.xlabel(\"a\")\n",
    "    plt.ylabel(\"b\")\n",
    "    plt.title('df points')\n",
    "    plt.show()\n",
    "    \n",
    "    \n",
    "    \n",
    "    startTime = time.time()\n",
    "    for i in range(df.shape[0]):\n",
    "        \n",
    "        ai = df[\"a\"][i]\n",
    "        bi = df[\"b\"][i]\n",
    "        \n",
    "        Index_in_Computed_points = -2  # remains negative if this has not been computed\n",
    "        if iteration_number > 2.2:\n",
    "            \n",
    "            for j in range(Computed_points.shape[0]):\n",
    "                aj = Computed_points[\"a\"][j]\n",
    "                bj = Computed_points[\"b\"][j]\n",
    "\n",
    "                if abs(ai - aj) + abs( bi - bj) < 0.0001:\n",
    "                    Index_in_Computed_points = j\n",
    "                    break\n",
    "\n",
    "        if Index_in_Computed_points > -0.5:\n",
    "            df[\"LogIpOverIu\"][i] = Computed_points[\"LogIpOverIu\"][Index_in_Computed_points]\n",
    "        elif abs(Index_in_Computed_points +2) < 0.001:\n",
    "            ick = Compute_Is(df[\"a\"][i], df[\"b\"][i], Q_value)\n",
    "            df[\"LogIpOverIu\"][i] = math.log(ick[0]) - math.log(ick[1])\n",
    "        else:\n",
    "            raise ValueError('Sth bad happened with Index_in_Computed_points')\n",
    "\n",
    "        if  i%23 == 4:\n",
    "            print(\"ETA for LogIpOverIu computation in this iteration = \" +\n",
    "                  str( (df.shape[0] - i - 1) *(time.time() - startTime)/(i+1) ) + \" seconds\")\n",
    "            \n",
    "    print(\"Total time for LogIpOverIu computation in this iteration = \"  + str(time.time() - startTime) )      \n",
    "    if iteration_number == 2:\n",
    "        Computed_points = df.copy()\n",
    "        \n",
    "    if iteration_number > 2:\n",
    "        Computed_points = pd.concat([Computed_points,df]).drop_duplicates().reset_index(drop=True)\n",
    "        \n",
    "    Signs = np.zeros(np.shape(df[\"LogIpOverIu\"]))\n",
    "    for i in range(len(Signs)):\n",
    "        if df[\"LogIpOverIu\"][i] > 0:\n",
    "            Signs[i] = 1\n",
    "        elif df[\"LogIpOverIu\"][i] < 0:\n",
    "            Signs[i] = -1\n",
    "    \n",
    "    plt.scatter(df[\"a\"], df[\"b\"], c=Signs, s=1)\n",
    "    plt.ylabel('b')\n",
    "    plt.xlabel('a')\n",
    "    plt.title(\"df dataframe\")\n",
    "\n",
    "    plt.show()\n",
    "    if iteration_number > 1.2:\n",
    "        DF_boundary_old = DF_boundary.copy()\n",
    "    \n",
    "    DF_boundary = getBoundary(df)\n",
    "    Signs_boundary = np.zeros(np.shape(DF_boundary[\"LogIpOverIu\"]))\n",
    "    for i in range(len(Signs_boundary)):\n",
    "        if DF_boundary[\"LogIpOverIu\"][i] > 0:\n",
    "            Signs_boundary[i] = 1\n",
    "        elif DF_boundary[\"LogIpOverIu\"][i] < 0:\n",
    "            Signs_boundary[i] = -1\n",
    "    \n",
    "    if iteration_number > 3.2:\n",
    "        if DF_boundary.shape[0] == DF_boundary_old.shape[0]:\n",
    "            Boundary_is_invariant = True\n",
    "    \n",
    "    \n",
    "    plt.scatter(DF_boundary[\"a\"][Signs_boundary > 0], DF_boundary[\"b\"][Signs_boundary > 0], c = \"red\", s=1)\n",
    "    plt.scatter(DF_boundary[\"a\"][Signs_boundary < 0], DF_boundary[\"b\"][Signs_boundary < 0], c = \"blue\", s=1)\n",
    "    plt.ylabel('b')\n",
    "    plt.xlabel('a')\n",
    "    plt.show()"
   ]
  },
  {
   "cell_type": "code",
   "execution_count": null,
   "id": "ed704c1a",
   "metadata": {},
   "outputs": [],
   "source": [
    "playsound(444,404)"
   ]
  },
  {
   "cell_type": "code",
   "execution_count": null,
   "id": "d85d0095",
   "metadata": {},
   "outputs": [],
   "source": [
    "df"
   ]
  },
  {
   "cell_type": "code",
   "execution_count": 26,
   "id": "13d869cd",
   "metadata": {},
   "outputs": [
    {
     "data": {
      "image/png": "[encoded data removed]",
      "text/plain": [
       "<Figure size 640x480 with 1 Axes>"
      ]
     },
     "metadata": {},
     "output_type": "display_data"
    }
   ],
   "source": [
    "    plt.scatter(df[\"a\"], df[\"b\"], s=1)\n",
    "    plt.ylabel('b')\n",
    "    plt.xlabel('a')\n",
    "    plt.show()"
   ]
  },
  {
   "cell_type": "code",
   "execution_count": 27,
   "id": "f8937b73",
   "metadata": {},
   "outputs": [],
   "source": [
    "if False: # clreate regression model \n",
    "    from sklearn.gaussian_process import GaussianProcessRegressor\n",
    "    from sklearn.gaussian_process.kernels import RBF\n",
    "    \n",
    "    X = np.array(df[[\"a\", \"b\"]])\n",
    "    Y = np.array(df[\"LogIpOverIu\"])\n",
    "    #Y = Y.reshape(-1, 1)\n",
    "    \n",
    "    \n",
    "    \n",
    "    kernel = 1 * RBF(length_scale=1.0, length_scale_bounds=(0.02, 0.25))\n",
    "    gaussian_process = GaussianProcessRegressor(kernel=kernel, n_restarts_optimizer=9)\n",
    "    gaussian_process.fit(X, Y)\n",
    "    print(gaussian_process.kernel_)\n",
    "    print(np.sum(np.abs(Y - gaussian_process.predict(X))))"
   ]
  },
  {
   "cell_type": "code",
   "execution_count": null,
   "id": "830348d4",
   "metadata": {},
   "outputs": [],
   "source": []
  },
  {
   "cell_type": "code",
   "execution_count": null,
   "id": "396ad304",
   "metadata": {},
   "outputs": [],
   "source": []
  },
  {
   "cell_type": "code",
   "execution_count": null,
   "id": "023b4a4a",
   "metadata": {},
   "outputs": [],
   "source": []
  },
  {
   "cell_type": "code",
   "execution_count": 28,
   "id": "92acb38b",
   "metadata": {},
   "outputs": [],
   "source": [
    "#fileObj = open('GaussianForPoland.pkl', 'wb')\n",
    "#pickle.dump(gaussian_process,fileObj)\n",
    "#fileObj.close()"
   ]
  },
  {
   "cell_type": "code",
   "execution_count": 29,
   "id": "61d04f42",
   "metadata": {},
   "outputs": [],
   "source": [
    "zeta = initialize_cities_array()\n",
    "LogCitySize = np.log(zeta[:,0])\n"
   ]
  },
  {
   "cell_type": "code",
   "execution_count": 30,
   "id": "e310c3d4",
   "metadata": {},
   "outputs": [
    {
     "data": {
      "text/plain": [
       "<BarContainer object of 4 artists>"
      ]
     },
     "execution_count": 30,
     "metadata": {},
     "output_type": "execute_result"
    },
    {
     "data": {
      "image/png": "[encoded data removed]",
      "text/plain": [
       "<Figure size 640x480 with 1 Axes>"
      ]
     },
     "metadata": {},
     "output_type": "display_data"
    }
   ],
   "source": [
    "plt.bar(LogCitySize, zeta[:,1])"
   ]
  },
  {
   "cell_type": "code",
   "execution_count": 31,
   "id": "d7a73fe9",
   "metadata": {},
   "outputs": [
    {
     "data": {
      "image/png": "[encoded data removed]",
      "text/plain": [
       "<Figure size 640x480 with 1 Axes>"
      ]
     },
     "metadata": {},
     "output_type": "display_data"
    }
   ],
   "source": [
    "    plt.scatter(DF_boundary[\"a\"][Signs_boundary > 0], DF_boundary[\"b\"][Signs_boundary > 0], c = \"red\", s=1)\n",
    "    plt.scatter(DF_boundary[\"a\"][Signs_boundary < 0], DF_boundary[\"b\"][Signs_boundary < 0], c = \"blue\", s=1)\n",
    "    plt.ylabel('b')\n",
    "    plt.xlabel('a')\n",
    "    plt.show()"
   ]
  },
  {
   "cell_type": "code",
   "execution_count": 32,
   "id": "d18e7fdb",
   "metadata": {},
   "outputs": [
    {
     "data": {
      "image/png": "[encoded data removed]",
      "text/plain": [
       "<Figure size 1000x2100 with 2 Axes>"
      ]
     },
     "metadata": {},
     "output_type": "display_data"
    }
   ],
   "source": [
    "\n",
    "\n",
    "fig, (ax1, ax2) = plt.subplots(1, 2, figsize=(10, 21))\n",
    "ax1.set_box_aspect(1)\n",
    "ax2.set_box_aspect(1)\n",
    "\n",
    "plt.subplots_adjust(wspace=0.5)\n",
    "\n",
    "ax1.bar(LogCitySize, zeta[:,1])\n",
    "ax2.scatter(DF_boundary[\"a\"][Signs_boundary > 0], DF_boundary[\"b\"][Signs_boundary > 0], c = \"red\", s=1)\n",
    "ax2.scatter(DF_boundary[\"a\"][Signs_boundary < 0], DF_boundary[\"b\"][Signs_boundary < 0], c = \"blue\", s=1)\n",
    "ax1.set(title= \"Beta\", xlabel=\"Log City Size\")\n",
    "ax2.set(title= \"Boundary Ip = Iu with Q/maxQ = \" + f'{Q_value/maxQ_value():.3f}' + \" and Q = \" + str(Q_value)\n",
    "        ,xlabel=\"a\", ylabel=\"b\")\n",
    "\n",
    "plt.savefig('Boundary' + str(int(time.time()//1)) + '.png', bbox_inches='tight')\n",
    "\n",
    "plt.show()"
   ]
  },
  {
   "cell_type": "code",
   "execution_count": null,
   "id": "8c086924",
   "metadata": {},
   "outputs": [],
   "source": []
  },
  {
   "cell_type": "code",
   "execution_count": null,
   "id": "df5be27c",
   "metadata": {},
   "outputs": [],
   "source": []
  },
  {
   "cell_type": "code",
   "execution_count": null,
   "id": "e631be9f",
   "metadata": {},
   "outputs": [],
   "source": []
  },
  {
   "cell_type": "code",
   "execution_count": null,
   "id": "5ebfa096",
   "metadata": {},
   "outputs": [],
   "source": []
  }
 ],
 "metadata": {
  "kernelspec": {
   "display_name": "Python 3 (ipykernel)",
   "language": "python",
   "name": "python3"
  },
  "language_info": {
   "codemirror_mode": {
    "name": "ipython",
    "version": 3
   },
   "file_extension": ".py",
   "mimetype": "text/x-python",
   "name": "python",
   "nbconvert_exporter": "python",
   "pygments_lexer": "ipython3",
   "version": "3.9.16"
  }
 },
 "nbformat": 4,
 "nbformat_minor": 5
}
