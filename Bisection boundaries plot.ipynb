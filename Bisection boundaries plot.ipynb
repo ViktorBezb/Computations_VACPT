{
 "cells": [
  {
   "cell_type": "code",
   "execution_count": 1,
   "id": "5fe93d02",
   "metadata": {},
   "outputs": [],
   "source": [
    "%run ./CoreFunctions.ipynb"
   ]
  },
  {
   "cell_type": "code",
   "execution_count": 2,
   "id": "b4bbf4d1",
   "metadata": {},
   "outputs": [],
   "source": [
    "playsound(444,444)"
   ]
  },
  {
   "cell_type": "code",
   "execution_count": 3,
   "id": "af5669d9",
   "metadata": {},
   "outputs": [],
   "source": [
    "\n",
    "    \n",
    "aLowestValue = -4.0\n",
    "aHighestValue = 5.0\n",
    "bLowestValue = -4.0\n",
    "bHighestValue = 5.0"
   ]
  },
  {
   "cell_type": "code",
   "execution_count": 4,
   "id": "4b7ed27c",
   "metadata": {},
   "outputs": [],
   "source": [
    "# Q values come below, after initialize cities array is defined"
   ]
  },
  {
   "cell_type": "code",
   "execution_count": 5,
   "id": "c4d869f6",
   "metadata": {},
   "outputs": [],
   "source": [
    "partition_size = 6"
   ]
  },
  {
   "cell_type": "code",
   "execution_count": 6,
   "id": "0ecd1e49",
   "metadata": {},
   "outputs": [],
   "source": [
    "SaveResults = True"
   ]
  },
  {
   "cell_type": "code",
   "execution_count": 7,
   "id": "203d255a",
   "metadata": {},
   "outputs": [],
   "source": [
    "#Polush population\n",
    "Pol_Pop = pd.read_csv(\"beta_30_Pl_AA.csv\")\n",
    "PolPopulation = np.array(Pol_Pop[\"SourcePopulation\"])\n",
    "PolPopulation = np.sort(PolPopulation)\n",
    "\n",
    "N_iterations = 39 \n",
    "N_cities = len(PolPopulation)\n",
    "#N_cities = 4 #number of city sizes"
   ]
  },
  {
   "cell_type": "code",
   "execution_count": null,
   "id": "9db76cc3",
   "metadata": {},
   "outputs": [],
   "source": []
  },
  {
   "cell_type": "code",
   "execution_count": 8,
   "id": "b3e61269",
   "metadata": {},
   "outputs": [],
   "source": [
    "# kI  does not! affect the ratio I_p/I_u!\n",
    "kI = 0.00001"
   ]
  },
  {
   "cell_type": "code",
   "execution_count": null,
   "id": "29236111",
   "metadata": {},
   "outputs": [],
   "source": []
  },
  {
   "cell_type": "code",
   "execution_count": null,
   "id": "00955a7e",
   "metadata": {},
   "outputs": [],
   "source": []
  },
  {
   "cell_type": "code",
   "execution_count": 9,
   "id": "9686929b",
   "metadata": {},
   "outputs": [],
   "source": [
    "# initialize cities array. The distribution is given manually\n",
    "if False:\n",
    "    def initialize_cities_array():\n",
    "        \n",
    "        # zeroth column is city size y, first is beta(y), second is pi_p(y), third  pi_U(y)\n",
    "        zeta      = np.zeros((N_cities, 4))\n",
    "        zeta[0,0] = 1000\n",
    "        zeta[1,0] = 25369\n",
    "        zeta[2,0] = 110521\n",
    "        zeta[3,0] = 787445\n",
    "        \n",
    "        zeta[0,1] = 0.09\n",
    "        zeta[1,1] = 0.05\n",
    "        zeta[2,1] = 0.85\n",
    "        zeta[3,1] = 0.01\n",
    "        \n",
    "        zeta[:,2] = 0.99 #placeholder\n",
    "        zeta[:,3] = 0.99  #placeholder\n",
    "    \n",
    "    \n",
    "        return zeta"
   ]
  },
  {
   "cell_type": "code",
   "execution_count": null,
   "id": "8e05c5e1",
   "metadata": {},
   "outputs": [],
   "source": []
  },
  {
   "cell_type": "code",
   "execution_count": 10,
   "id": "84b77ac5",
   "metadata": {},
   "outputs": [],
   "source": [
    "# for Poland all city sizes are unique\n",
    "if True:   \n",
    "    def initialize_cities_array():\n",
    "        \n",
    "        # zeroth column is city size y, first is beta(y), second is pi_p(y), third  pi_U(y)\n",
    "        zeta      = np.zeros((N_cities, 4))\n",
    "        zeta[:,0] = PolPopulation\n",
    "     \n",
    "        \n",
    "        zeta[:,1] = 1/N_cities\n",
    "        \n",
    "        zeta[:,2] = 0.99 #placeholder\n",
    "        zeta[:,3] = 0.99  #placeholder\n",
    "    \n",
    "    \n",
    "        return zeta"
   ]
  },
  {
   "cell_type": "code",
   "execution_count": 11,
   "id": "9ba1a4db",
   "metadata": {},
   "outputs": [],
   "source": [
    "Q_values = np.array([0.01, 0.06, 0.095, 0.107, 0.125, 0.15,  0.2, 0.47, 0.76, 0.93, 0.99]) * maxQ_value()\n",
    "#Q_values = np.array([0.3,0.88]) * maxQ_value()"
   ]
  },
  {
   "cell_type": "code",
   "execution_count": 12,
   "id": "535a8f4c",
   "metadata": {},
   "outputs": [
    {
     "data": {
      "text/plain": [
       "array([  1120.73918,   6724.43507,  11207.39179,  14009.23974,\n",
       "        16811.08768,  19612.93563,  22414.78358,  52674.74141,\n",
       "        85176.1776 , 104228.74364, 110953.17871])"
      ]
     },
     "execution_count": 12,
     "metadata": {},
     "output_type": "execute_result"
    }
   ],
   "source": [
    "Q_values"
   ]
  },
  {
   "cell_type": "code",
   "execution_count": 13,
   "id": "9f7f96ba",
   "metadata": {},
   "outputs": [],
   "source": [
    "Q_max_possible_value = maxQ_value()"
   ]
  },
  {
   "cell_type": "code",
   "execution_count": 14,
   "id": "3387559f",
   "metadata": {},
   "outputs": [
    {
     "data": {
      "text/plain": [
       "0.5310887952443819"
      ]
     },
     "execution_count": 14,
     "metadata": {},
     "output_type": "execute_result"
    }
   ],
   "source": [
    "ick = Compute_Is(-0.432, 1.2315, 6894)\n",
    "math.log(ick[0]) - math.log(ick[1])"
   ]
  },
  {
   "cell_type": "code",
   "execution_count": null,
   "id": "9c4109d1",
   "metadata": {},
   "outputs": [],
   "source": []
  },
  {
   "cell_type": "code",
   "execution_count": null,
   "id": "06ff0c66",
   "metadata": {},
   "outputs": [],
   "source": []
  },
  {
   "cell_type": "code",
   "execution_count": null,
   "id": "629c8879",
   "metadata": {},
   "outputs": [],
   "source": []
  },
  {
   "cell_type": "code",
   "execution_count": 15,
   "id": "7b39796d",
   "metadata": {},
   "outputs": [],
   "source": [
    "if np.max(Q_values) > maxQ_value() - 0.1:\n",
    "    raise ValueError(\"Q_value is too high!\")"
   ]
  },
  {
   "cell_type": "code",
   "execution_count": null,
   "id": "9956eb6f",
   "metadata": {},
   "outputs": [],
   "source": []
  },
  {
   "cell_type": "code",
   "execution_count": null,
   "id": "345e0683",
   "metadata": {},
   "outputs": [],
   "source": []
  },
  {
   "cell_type": "code",
   "execution_count": null,
   "id": "bef04bfe",
   "metadata": {},
   "outputs": [],
   "source": []
  },
  {
   "cell_type": "code",
   "execution_count": null,
   "id": "7bfd13f7",
   "metadata": {},
   "outputs": [],
   "source": []
  },
  {
   "cell_type": "code",
   "execution_count": null,
   "id": "05de0dd1",
   "metadata": {},
   "outputs": [],
   "source": []
  },
  {
   "cell_type": "code",
   "execution_count": 16,
   "id": "b0d6cb06",
   "metadata": {},
   "outputs": [],
   "source": [
    "#determine boundaries using the bisection algorithm\n",
    "\n",
    "aaaaaaas = np.linspace(start=aLowestValue , stop=aHighestValue   , num=partition_size) \n",
    "bbbbbbbs = np.linspace(start=bLowestValue , stop=bHighestValue, num=partition_size) \n",
    "\n",
    "\n",
    "\n",
    "aas = np.array([aaaaaaas for i in range(np.shape(Q_values)[0])])\n",
    "bbs = np.array([bbbbbbbs for i in range(np.shape(Q_values)[0])])\n",
    "\n",
    "bbs_of_aas = bLowestValue* np.ones(np.shape(aas)) \n",
    "aas_of_bbs = -2* np.ones(np.shape(bbs))\n",
    "\n",
    "\n"
   ]
  },
  {
   "cell_type": "code",
   "execution_count": 17,
   "id": "412ffa73",
   "metadata": {},
   "outputs": [],
   "source": [
    "aANDbLimit = 26"
   ]
  },
  {
   "cell_type": "code",
   "execution_count": 18,
   "id": "ee5912bc",
   "metadata": {},
   "outputs": [],
   "source": [
    "def Find_approx_root_given_a(a, Tolerance, Q_value, Verbose = False):\n",
    "    b = np.random.uniform(low = -0.3*aANDbLimit, high = 0.3*aANDbLimit)\n",
    "    Continue_while_loop = True\n",
    "    \n",
    "    Iteration_number = 0\n",
    "    \n",
    "    high = aANDbLimit\n",
    "    low = -aANDbLimit\n",
    "    \n",
    "    while Iteration_number < 60:\n",
    "        \n",
    "        if b > 0.995* aANDbLimit:\n",
    "            b = 1001\n",
    "            break\n",
    "            \n",
    "        if b < -0.995* aANDbLimit:\n",
    "            b = -1001\n",
    "            break\n",
    "            \n",
    "        Iteration_number = Iteration_number + 1\n",
    "        ick = Compute_Is(a, b, Q_value)\n",
    "        LogRatio = math.log(ick[0]) - math.log(ick[1])\n",
    "        if Verbose == True:\n",
    "            print(\"b = \" + str(b)+ \", LogRatio = \" + str(LogRatio))\n",
    "        if abs(LogRatio) < Tolerance: \n",
    "            Continue_while_loop = False\n",
    "            break \n",
    "            \n",
    "        elif LogRatio >= Tolerance:\n",
    "            low = b\n",
    "            b = 0.5*(b + high)\n",
    "        else: \n",
    "            high = b\n",
    "            b = 0.5*(b + low)\n",
    "            \n",
    "\n",
    "            \n",
    "        if  Iteration_number == 42:\n",
    "            print(\"Iteration number searching for b is too high. Check whats going on.  \")\n",
    "            print(\"Possibly a and b Limits need to be increased  \")\n",
    "            print(\"a , Tolerance, Q_value = \" +   str([a, Tolerance, Q_value]))    \n",
    "        \n",
    "    return b\n",
    "        \n",
    "def Find_approx_root_given_b(b, Tolerance, Q_value, Verbose = False):\n",
    "    a = np.random.uniform(low= -0.3*aANDbLimit, high= 0.3*aANDbLimit)\n",
    "    Continue_while_loop = True\n",
    "    \n",
    "    Iteration_number = 0\n",
    "    \n",
    "    high = aANDbLimit\n",
    "    low = -aANDbLimit\n",
    "    \n",
    "    while Iteration_number < 60:\n",
    "        \n",
    "        if a > 0.995* aANDbLimit:\n",
    "            a = 1001\n",
    "            break\n",
    "        \n",
    "        if a < -0.995* aANDbLimit:\n",
    "            a = -1001\n",
    "            break\n",
    "            \n",
    "        Iteration_number = Iteration_number + 1\n",
    "        ick = Compute_Is(a, b, Q_value)\n",
    "        LogRatio = math.log(ick[0]) - math.log(ick[1])\n",
    "        if Verbose == True:\n",
    "            print(\"a = \" + str(a)+ \", LogRatio = \" + str(LogRatio))\n",
    "        if abs(LogRatio) < Tolerance: \n",
    "            Continue_while_loop = False\n",
    "            break \n",
    "            \n",
    "\n",
    "            \n",
    "        elif LogRatio >= Tolerance:\n",
    "            low = a\n",
    "            a = 0.5*(a + high)\n",
    "        else: \n",
    "            high = a\n",
    "            a = 0.5*(a + low)\n",
    "        \n",
    "        if  Iteration_number == 42:\n",
    "                print(\"Iteration number searching for a is too high. Check whats going on.  \")\n",
    "                print(\"Possibly a and b Limits need to be increased  \")\n",
    "                print(\"b , Tolerance, Q_value = \" +   str([b, Tolerance, Q_value]))\n",
    "        \n",
    "    return a\n",
    "        "
   ]
  },
  {
   "cell_type": "code",
   "execution_count": null,
   "id": "0189dc17",
   "metadata": {
    "scrolled": false
   },
   "outputs": [],
   "source": []
  },
  {
   "cell_type": "code",
   "execution_count": 19,
   "id": "bcba5dc1",
   "metadata": {
    "scrolled": true
   },
   "outputs": [
    {
     "data": {
      "text/plain": [
       "112073.91788856301"
      ]
     },
     "execution_count": 19,
     "metadata": {},
     "output_type": "execute_result"
    }
   ],
   "source": [
    "maxQ_value()"
   ]
  },
  {
   "cell_type": "code",
   "execution_count": null,
   "id": "e5f6c41b",
   "metadata": {},
   "outputs": [],
   "source": []
  },
  {
   "cell_type": "code",
   "execution_count": null,
   "id": "b7fe6158",
   "metadata": {},
   "outputs": [],
   "source": []
  },
  {
   "cell_type": "code",
   "execution_count": 20,
   "id": "4b787d35",
   "metadata": {},
   "outputs": [
    {
     "name": "stdout",
     "output_type": "stream",
     "text": [
      "a = -4.563045303334278, LogRatio = -2.2218837768594355\n",
      "a = -15.281522651667139, LogRatio = -0.4243110302296387\n",
      "a = -20.64076132583357, LogRatio = 0.1300104128555546\n",
      "a = -17.961141988750356, LogRatio = -0.22550495666887116\n",
      "a = -19.30095165729196, LogRatio = 0.05518748906932558\n",
      "a = -18.63104682302116, LogRatio = -0.0383131691513654\n",
      "a = -18.96599924015656, LogRatio = 0.020550800412479475\n",
      "a = -18.798523031588857, LogRatio = -0.0054538574050724264\n",
      "a = -18.88226113587271, LogRatio = 0.008343991384279548\n",
      "a = -18.840392083730784, LogRatio = 0.0015565913472812554\n",
      "a = -18.81945755765982, LogRatio = -0.0017098228290706174\n",
      "a = -18.829924820695304, LogRatio = -0.00024912333087456773\n",
      "CPU times: total: 6.75 s\n",
      "Wall time: 6.75 s\n"
     ]
    },
    {
     "data": {
      "text/plain": [
       "-18.829924820695304"
      ]
     },
     "execution_count": 20,
     "metadata": {},
     "output_type": "execute_result"
    }
   ],
   "source": [
    "%%time\n",
    "Find_approx_root_given_b(9.4, 0.0012, 111832, Verbose = True)"
   ]
  },
  {
   "cell_type": "code",
   "execution_count": null,
   "id": "95a609a6",
   "metadata": {},
   "outputs": [],
   "source": []
  },
  {
   "cell_type": "code",
   "execution_count": null,
   "id": "cb78f76c",
   "metadata": {},
   "outputs": [],
   "source": []
  },
  {
   "cell_type": "code",
   "execution_count": 21,
   "id": "173439bb",
   "metadata": {
    "scrolled": false
   },
   "outputs": [
    {
     "name": "stdout",
     "output_type": "stream",
     "text": [
      "This loop relies on the ratio log (I_p/I_u) to be monotonically decreasing in a and b!\n",
      "k = 0\n",
      "ETA for LogRation computation given a in this subloop = 0.0 seconds\n",
      "Average number of seconds per iteration in this subloop = 15.345115502675375 seconds\n",
      "Total time for this subloop = 92.07069301605225 seconds\n",
      "Average number of seconds per iteration in this subloop = 15.345115502675375 seconds\n",
      "ETA for LogRation computation given b in this subloop = 0.0 seconds\n",
      "Average number of seconds per iteration in this subloop = 12.733915408452352 seconds\n",
      "Total time for this subloop = 76.40349245071411 seconds\n",
      "Average number of seconds per iteration in this subloop = 12.733915408452352 seconds\n",
      "k = 1\n",
      "ETA for LogRation computation given a in this subloop = 0.0 seconds\n",
      "Average number of seconds per iteration in this subloop = 12.379218657811483 seconds\n",
      "Total time for this subloop = 74.2753119468689 seconds\n",
      "Average number of seconds per iteration in this subloop = 12.379218657811483 seconds\n",
      "ETA for LogRation computation given b in this subloop = 0.0 seconds\n",
      "Average number of seconds per iteration in this subloop = 12.082583347956339 seconds\n",
      "Total time for this subloop = 72.49550008773804 seconds\n",
      "Average number of seconds per iteration in this subloop = 12.082583347956339 seconds\n",
      "k = 2\n",
      "ETA for LogRation computation given a in this subloop = 0.0 seconds\n",
      "Average number of seconds per iteration in this subloop = 10.192814230918884 seconds\n",
      "Total time for this subloop = 61.156885385513306 seconds\n",
      "Average number of seconds per iteration in this subloop = 10.192814230918884 seconds\n",
      "ETA for LogRation computation given b in this subloop = 0.0 seconds\n",
      "Average number of seconds per iteration in this subloop = 7.28387435277303 seconds\n",
      "Total time for this subloop = 43.703246116638184 seconds\n",
      "Average number of seconds per iteration in this subloop = 7.28387435277303 seconds\n",
      "k = 3\n",
      "ETA for LogRation computation given a in this subloop = 0.0 seconds\n",
      "Average number of seconds per iteration in this subloop = 6.4562738339106245 seconds\n",
      "Total time for this subloop = 38.737643003463745 seconds\n",
      "Average number of seconds per iteration in this subloop = 6.4562738339106245 seconds\n",
      "ETA for LogRation computation given b in this subloop = 0.0 seconds\n",
      "Average number of seconds per iteration in this subloop = 7.384475588798523 seconds\n",
      "Total time for this subloop = 44.30685353279114 seconds\n",
      "Average number of seconds per iteration in this subloop = 7.384475588798523 seconds\n",
      "k = 4\n",
      "ETA for LogRation computation given a in this subloop = 0.0 seconds\n",
      "Average number of seconds per iteration in this subloop = 9.146096309026083 seconds\n",
      "Total time for this subloop = 54.876577854156494 seconds\n",
      "Average number of seconds per iteration in this subloop = 9.146096309026083 seconds\n",
      "ETA for LogRation computation given b in this subloop = 0.0 seconds\n",
      "Average number of seconds per iteration in this subloop = 11.226065595944723 seconds\n",
      "Total time for this subloop = 67.35639357566833 seconds\n",
      "Average number of seconds per iteration in this subloop = 11.226065595944723 seconds\n",
      "k = 5\n",
      "ETA for LogRation computation given a in this subloop = 0.0 seconds\n",
      "Average number of seconds per iteration in this subloop = 13.058696627616882 seconds\n",
      "Total time for this subloop = 78.3521797657013 seconds\n",
      "Average number of seconds per iteration in this subloop = 13.058696627616882 seconds\n",
      "ETA for LogRation computation given b in this subloop = 0.0 seconds\n",
      "Average number of seconds per iteration in this subloop = 13.921043475468954 seconds\n",
      "Total time for this subloop = 83.52626085281372 seconds\n",
      "Average number of seconds per iteration in this subloop = 13.921043475468954 seconds\n",
      "k = 6\n",
      "ETA for LogRation computation given a in this subloop = 0.0 seconds\n",
      "Average number of seconds per iteration in this subloop = 14.14686143398285 seconds\n",
      "Total time for this subloop = 84.8811686038971 seconds\n",
      "Average number of seconds per iteration in this subloop = 14.14686143398285 seconds\n",
      "ETA for LogRation computation given b in this subloop = 0.0 seconds\n",
      "Average number of seconds per iteration in this subloop = 18.755282918612163 seconds\n",
      "Total time for this subloop = 112.53222894668579 seconds\n",
      "Average number of seconds per iteration in this subloop = 18.7553714911143 seconds\n",
      "k = 7\n",
      "ETA for LogRation computation given a in this subloop = 0.0 seconds\n",
      "Average number of seconds per iteration in this subloop = 22.608441829681396 seconds\n",
      "Total time for this subloop = 135.65065097808838 seconds\n",
      "Average number of seconds per iteration in this subloop = 22.608441829681396 seconds\n",
      "ETA for LogRation computation given b in this subloop = 0.0 seconds\n",
      "Average number of seconds per iteration in this subloop = 24.53761092821757 seconds\n",
      "Total time for this subloop = 147.22566556930542 seconds\n",
      "Average number of seconds per iteration in this subloop = 24.53761092821757 seconds\n",
      "k = 8\n",
      "ETA for LogRation computation given a in this subloop = 0.0 seconds\n",
      "Average number of seconds per iteration in this subloop = 10.943111658096313 seconds\n",
      "Total time for this subloop = 65.65866994857788 seconds\n",
      "Average number of seconds per iteration in this subloop = 10.943111658096313 seconds\n",
      "ETA for LogRation computation given b in this subloop = 0.0 seconds\n",
      "Average number of seconds per iteration in this subloop = 12.083250244458517 seconds\n",
      "Total time for this subloop = 72.4995014667511 seconds\n",
      "Average number of seconds per iteration in this subloop = 12.083250244458517 seconds\n",
      "k = 9\n",
      "ETA for LogRation computation given a in this subloop = 0.0 seconds\n",
      "Average number of seconds per iteration in this subloop = 7.324857195218404 seconds\n",
      "Total time for this subloop = 43.949143171310425 seconds\n",
      "Average number of seconds per iteration in this subloop = 7.324857195218404 seconds\n",
      "ETA for LogRation computation given b in this subloop = 0.0 seconds\n",
      "Average number of seconds per iteration in this subloop = 5.982917666435242 seconds\n",
      "Total time for this subloop = 35.89750599861145 seconds\n",
      "Average number of seconds per iteration in this subloop = 5.982917666435242 seconds\n",
      "k = 10\n",
      "ETA for LogRation computation given a in this subloop = 0.0 seconds\n",
      "Average number of seconds per iteration in this subloop = 4.574875990549724 seconds\n",
      "Total time for this subloop = 27.44925594329834 seconds\n",
      "Average number of seconds per iteration in this subloop = 4.574875990549724 seconds\n",
      "ETA for LogRation computation given b in this subloop = 0.0 seconds\n",
      "Average number of seconds per iteration in this subloop = 6.644444664319356 seconds\n",
      "Total time for this subloop = 39.86666798591614 seconds\n",
      "Average number of seconds per iteration in this subloop = 6.644444664319356 seconds\n"
     ]
    }
   ],
   "source": [
    "# extremal value the root search function can take\n",
    "# relies on the ration log (I_p/I_u) to be monotonically decreasing in a and b!\n",
    "\n",
    "print(\"This loop relies on the ratio log (I_p/I_u) to be monotonically decreasing in a and b!\")\n",
    "\n",
    "\n",
    "\n",
    "Tolerance = 0.0012 # a lower tolerance doesnt make much sense without decreasing tolerance of the core functions\n",
    "\n",
    "for k in range(np.shape(Q_values)[0]):\n",
    "    print(\"k = \" + str(k))\n",
    "    Q_value = Q_values[k]\n",
    "    startTime = time.time()\n",
    "    \n",
    "    for i in range(np.shape(aas)[1]):\n",
    "        a = aas[k][i]\n",
    "        bbs_of_aas[k][i]  = Find_approx_root_given_a(a, Tolerance, Q_value)\n",
    "        \n",
    "        if  i%73 == 5:\n",
    "            print(\"ETA for LogRation computation given a in this subloop = \" +\n",
    "                      str( (np.shape(aas)[1] - i - 1) *(time.time() - startTime)/(i+1) ) + \" seconds\")\n",
    "            print(\"Average number of seconds per iteration in this subloop = \"\n",
    "                  + str((time.time() - startTime)/(i+1)) + \" seconds\")\n",
    "            print(\" \")\n",
    "            \n",
    "    print(\"Total time for this subloop = \" + str(time.time() - startTime) + \" seconds\")\n",
    "    print(\"Average number of seconds per iteration in this subloop = \"\n",
    "          + str((time.time() - startTime)/(i+1)) + \" seconds\")\n",
    "        \n",
    "    startTime = time.time()\n",
    "    for i in range(np.shape(bbs)[1]):\n",
    "        \n",
    "        b = bbs[k][i]\n",
    "        aas_of_bbs[k][i] = Find_approx_root_given_b(b, Tolerance, Q_value)\n",
    "        \n",
    "        if  i%73 == 5:\n",
    "            print(\"ETA for LogRation computation given b in this subloop = \" +\n",
    "                      str( (np.shape(aas)[1] - i - 1) *(time.time() - startTime)/(i+1) ) + \" seconds\")\n",
    "            print(\"Average number of seconds per iteration in this subloop = \"\n",
    "                  + str((time.time() - startTime)/(i+1)) + \" seconds\")\n",
    "            print(\" \")\n",
    "            \n",
    "    print(\"Total time for this subloop = \" + str(time.time() - startTime) + \" seconds\")\n",
    "    print(\"Average number of seconds per iteration in this subloop = \"\n",
    "          + str((time.time() - startTime)/(i+1)) + \" seconds\")\n"
   ]
  },
  {
   "cell_type": "code",
   "execution_count": 22,
   "id": "7295e7ab",
   "metadata": {},
   "outputs": [],
   "source": [
    "playsound(364,444)"
   ]
  },
  {
   "cell_type": "code",
   "execution_count": 23,
   "id": "cf868140",
   "metadata": {},
   "outputs": [],
   "source": [
    "import matplotlib.patches as mpatches"
   ]
  },
  {
   "cell_type": "code",
   "execution_count": null,
   "id": "598ceb61",
   "metadata": {},
   "outputs": [],
   "source": []
  },
  {
   "cell_type": "code",
   "execution_count": 30,
   "id": "bcf2e08b",
   "metadata": {},
   "outputs": [
    {
     "data": {
      "text/plain": [
       "array([False, False, False,  True,  True,  True])"
      ]
     },
     "execution_count": 30,
     "metadata": {},
     "output_type": "execute_result"
    }
   ],
   "source": [
    "(bbs_of_aas[0] < 0.99* aANDbLimit)  & (bbs_of_aas[0] > -0.99*aANDbLimit)"
   ]
  },
  {
   "cell_type": "code",
   "execution_count": 32,
   "id": "8a062aae",
   "metadata": {},
   "outputs": [
    {
     "data": {
      "text/plain": [
       "array([False, False, False,  True,  True,  True])"
      ]
     },
     "execution_count": 32,
     "metadata": {},
     "output_type": "execute_result"
    }
   ],
   "source": []
  },
  {
   "cell_type": "code",
   "execution_count": 33,
   "id": "7fe419cc",
   "metadata": {},
   "outputs": [
    {
     "data": {
      "image/png": "[encoded data removed]",
      "text/plain": [
       "<Figure size 640x480 with 1 Axes>"
      ]
     },
     "metadata": {},
     "output_type": "display_data"
    }
   ],
   "source": [
    "\n",
    "\n",
    "palette = sns.color_palette(None, np.shape(Q_values)[0])\n",
    "\n",
    "patches = []\n",
    "\n",
    "for k in range(0,np.shape(Q_values)[0]):\n",
    "\n",
    "    patches.append(mpatches.Patch(color = palette[k], label ='{0:.1f}'.format(Q_values[k])))\n",
    "        \n",
    "    plt.plot(aas[k][(bbs_of_aas[k] < 0.99* aANDbLimit)  & (bbs_of_aas[k] > -0.99*aANDbLimit) ],\n",
    "             bbs_of_aas[k][(bbs_of_aas[k] < 0.99* aANDbLimit)  & (bbs_of_aas[k] > -0.99*aANDbLimit) ], \n",
    "             color=palette[k], linewidth=1.0)\n",
    "    plt.plot( aas_of_bbs[k][(aas_of_bbs[k]< 0.99* aANDbLimit) & (aas_of_bbs[k]> -0.99* aANDbLimit)] , \n",
    "             bbs[k][(aas_of_bbs[k]< 0.99* aANDbLimit) & (aas_of_bbs[k]> -0.99* aANDbLimit)],\n",
    "             color=palette[k], linewidth=1.0)\n",
    "    \n",
    "    \n",
    "plt.ylabel('b')\n",
    "plt.xlabel('a')\n",
    "plt.legend(handles=patches,  title=\"Q values\", bbox_to_anchor=(1.04, 0.5), loc=\"center left\", borderaxespad=0)\n",
    "\n",
    "\n",
    "plt.title(\"Boundaries for different values of Q\")\n",
    "if SaveResults == True:\n",
    "    plt.savefig('Boundaries for various Q' + str(int(time.time()//1)) + '.png', bbox_inches='tight')\n",
    "\n",
    "plt.show()    "
   ]
  },
  {
   "cell_type": "code",
   "execution_count": null,
   "id": "36f3c460",
   "metadata": {},
   "outputs": [],
   "source": [
    "    if SaveResults == True:\n",
    "        fileObj = open('Poland_Boundaries_different_Q_'  + str(int(time.time()//1)) + '.pkl', 'wb')\n",
    "        pickle.dump([aas,bbs_of_aas, bbs, aas_of_bbs],fileObj)\n",
    "        fileObj.close()"
   ]
  }
 ],
 "metadata": {
  "kernelspec": {
   "display_name": "Python 3 (ipykernel)",
   "language": "python",
   "name": "python3"
  },
  "language_info": {
   "codemirror_mode": {
    "name": "ipython",
    "version": 3
   },
   "file_extension": ".py",
   "mimetype": "text/x-python",
   "name": "python",
   "nbconvert_exporter": "python",
   "pygments_lexer": "ipython3",
   "version": "3.8.16"
  }
 },
 "nbformat": 4,
 "nbformat_minor": 5
}
